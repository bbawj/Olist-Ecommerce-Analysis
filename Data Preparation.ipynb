{
 "cells": [
  {
   "cell_type": "markdown",
   "metadata": {},
   "source": [
    "# DATA PREPARITION NOTEBOOK"
   ]
  },
  {
   "cell_type": "code",
   "execution_count": 8,
   "metadata": {},
   "outputs": [],
   "source": [
    "import numpy as np\n",
    "import pandas as pd\n",
    "import seaborn as sb"
   ]
  },
  {
   "cell_type": "markdown",
   "metadata": {},
   "source": [
    "## Importing Datasets"
   ]
  },
  {
   "cell_type": "code",
   "execution_count": 9,
   "metadata": {},
   "outputs": [],
   "source": [
    "customerdata = pd.read_csv(\"olist_customers_dataset.csv\")\n",
    "orderitems = pd.read_csv(\"olist_order_items_dataset.csv\")\n",
    "orderpayments = pd.read_csv(\"olist_order_payments_dataset.csv\")\n",
    "orderreviews = pd.read_csv(\"olist_order_reviews_dataset.csv\")\n",
    "orders = pd.read_csv(\"olist_orders_dataset.csv\")\n",
    "products = pd.read_csv(\"olist_products_dataset.csv\")\n",
    "translation = pd.read_csv(\"product_category_name_translation.csv\")\n",
    "datasetlist = [orderitems,orderpayments,orderreviews,orders,products,translation]"
   ]
  },
  {
   "cell_type": "markdown",
   "metadata": {},
   "source": [
    "## Basic Data Exploration"
   ]
  },
  {
   "cell_type": "code",
   "execution_count": 10,
   "metadata": {},
   "outputs": [
    {
     "name": "stdout",
     "output_type": "stream",
     "text": [
      "<class 'pandas.core.frame.DataFrame'>\n",
      "RangeIndex: 112650 entries, 0 to 112649\n",
      "Data columns (total 7 columns):\n",
      " #   Column               Non-Null Count   Dtype  \n",
      "---  ------               --------------   -----  \n",
      " 0   order_id             112650 non-null  object \n",
      " 1   order_item_id        112650 non-null  int64  \n",
      " 2   product_id           112650 non-null  object \n",
      " 3   seller_id            112650 non-null  object \n",
      " 4   shipping_limit_date  112650 non-null  object \n",
      " 5   price                112650 non-null  float64\n",
      " 6   freight_value        112650 non-null  float64\n",
      "dtypes: float64(2), int64(1), object(4)\n",
      "memory usage: 6.0+ MB\n",
      "<class 'pandas.core.frame.DataFrame'>\n",
      "RangeIndex: 103886 entries, 0 to 103885\n",
      "Data columns (total 5 columns):\n",
      " #   Column                Non-Null Count   Dtype  \n",
      "---  ------                --------------   -----  \n",
      " 0   order_id              103886 non-null  object \n",
      " 1   payment_sequential    103886 non-null  int64  \n",
      " 2   payment_type          103886 non-null  object \n",
      " 3   payment_installments  103886 non-null  int64  \n",
      " 4   payment_value         103886 non-null  float64\n",
      "dtypes: float64(1), int64(2), object(2)\n",
      "memory usage: 4.0+ MB\n",
      "<class 'pandas.core.frame.DataFrame'>\n",
      "RangeIndex: 100000 entries, 0 to 99999\n",
      "Data columns (total 7 columns):\n",
      " #   Column                   Non-Null Count   Dtype \n",
      "---  ------                   --------------   ----- \n",
      " 0   review_id                100000 non-null  object\n",
      " 1   order_id                 100000 non-null  object\n",
      " 2   review_score             100000 non-null  int64 \n",
      " 3   review_comment_title     11715 non-null   object\n",
      " 4   review_comment_message   41753 non-null   object\n",
      " 5   review_creation_date     100000 non-null  object\n",
      " 6   review_answer_timestamp  100000 non-null  object\n",
      "dtypes: int64(1), object(6)\n",
      "memory usage: 5.3+ MB\n",
      "<class 'pandas.core.frame.DataFrame'>\n",
      "RangeIndex: 99441 entries, 0 to 99440\n",
      "Data columns (total 8 columns):\n",
      " #   Column                         Non-Null Count  Dtype \n",
      "---  ------                         --------------  ----- \n",
      " 0   order_id                       99441 non-null  object\n",
      " 1   customer_id                    99441 non-null  object\n",
      " 2   order_status                   99441 non-null  object\n",
      " 3   order_purchase_timestamp       99441 non-null  object\n",
      " 4   order_approved_at              99281 non-null  object\n",
      " 5   order_delivered_carrier_date   97658 non-null  object\n",
      " 6   order_delivered_customer_date  96476 non-null  object\n",
      " 7   order_estimated_delivery_date  99441 non-null  object\n",
      "dtypes: object(8)\n",
      "memory usage: 6.1+ MB\n",
      "<class 'pandas.core.frame.DataFrame'>\n",
      "RangeIndex: 32951 entries, 0 to 32950\n",
      "Data columns (total 9 columns):\n",
      " #   Column                      Non-Null Count  Dtype  \n",
      "---  ------                      --------------  -----  \n",
      " 0   product_id                  32951 non-null  object \n",
      " 1   product_category_name       32341 non-null  object \n",
      " 2   product_name_lenght         32341 non-null  float64\n",
      " 3   product_description_lenght  32341 non-null  float64\n",
      " 4   product_photos_qty          32341 non-null  float64\n",
      " 5   product_weight_g            32949 non-null  float64\n",
      " 6   product_length_cm           32949 non-null  float64\n",
      " 7   product_height_cm           32949 non-null  float64\n",
      " 8   product_width_cm            32949 non-null  float64\n",
      "dtypes: float64(7), object(2)\n",
      "memory usage: 2.3+ MB\n",
      "<class 'pandas.core.frame.DataFrame'>\n",
      "RangeIndex: 71 entries, 0 to 70\n",
      "Data columns (total 2 columns):\n",
      " #   Column                         Non-Null Count  Dtype \n",
      "---  ------                         --------------  ----- \n",
      " 0   product_category_name          71 non-null     object\n",
      " 1   product_category_name_english  71 non-null     object\n",
      "dtypes: object(2)\n",
      "memory usage: 1.2+ KB\n"
     ]
    }
   ],
   "source": [
    "for x in datasetlist:\n",
    "    x.info()"
   ]
  },
  {
   "cell_type": "markdown",
   "metadata": {},
   "source": [
    "## Checking for Discrepancies"
   ]
  },
  {
   "cell_type": "code",
   "execution_count": 11,
   "metadata": {},
   "outputs": [
    {
     "name": "stdout",
     "output_type": "stream",
     "text": [
      "98666\n",
      "99441\n",
      "99440\n",
      "99441\n"
     ]
    }
   ],
   "source": [
    "print(len(orderitems.order_id.unique()))\n",
    "print(len(orders.order_id.unique()))\n",
    "print(len(orderpayments.order_id.unique()))\n",
    "print(len(orderreviews.order_id.unique()))"
   ]
  },
  {
   "cell_type": "markdown",
   "metadata": {},
   "source": [
    "### Missing values of order_id found between the datasets. Filter out the missing values and find out the reason why they are dropped between datasets. "
   ]
  },
  {
   "cell_type": "code",
   "execution_count": 12,
   "metadata": {},
   "outputs": [
    {
     "name": "stdout",
     "output_type": "stream",
     "text": [
      "<class 'pandas.core.frame.DataFrame'>\n",
      "Int64Index: 775 entries, 266 to 99415\n",
      "Data columns (total 8 columns):\n",
      " #   Column                         Non-Null Count  Dtype \n",
      "---  ------                         --------------  ----- \n",
      " 0   order_id                       775 non-null    object\n",
      " 1   customer_id                    775 non-null    object\n",
      " 2   order_status                   775 non-null    object\n",
      " 3   order_purchase_timestamp       775 non-null    object\n",
      " 4   order_approved_at              629 non-null    object\n",
      " 5   order_delivered_carrier_date   1 non-null      object\n",
      " 6   order_delivered_customer_date  0 non-null      object\n",
      " 7   order_estimated_delivery_date  775 non-null    object\n",
      "dtypes: object(8)\n",
      "memory usage: 54.5+ KB\n"
     ]
    },
    {
     "data": {
      "text/html": [
       "<div>\n",
       "<style scoped>\n",
       "    .dataframe tbody tr th:only-of-type {\n",
       "        vertical-align: middle;\n",
       "    }\n",
       "\n",
       "    .dataframe tbody tr th {\n",
       "        vertical-align: top;\n",
       "    }\n",
       "\n",
       "    .dataframe thead th {\n",
       "        text-align: right;\n",
       "    }\n",
       "</style>\n",
       "<table border=\"1\" class=\"dataframe\">\n",
       "  <thead>\n",
       "    <tr style=\"text-align: right;\">\n",
       "      <th></th>\n",
       "      <th>order_id</th>\n",
       "      <th>customer_id</th>\n",
       "      <th>order_status</th>\n",
       "      <th>order_purchase_timestamp</th>\n",
       "      <th>order_approved_at</th>\n",
       "      <th>order_delivered_carrier_date</th>\n",
       "      <th>order_delivered_customer_date</th>\n",
       "      <th>order_estimated_delivery_date</th>\n",
       "    </tr>\n",
       "  </thead>\n",
       "  <tbody>\n",
       "    <tr>\n",
       "      <th>266</th>\n",
       "      <td>8e24261a7e58791d10cb1bf9da94df5c</td>\n",
       "      <td>64a254d30eed42cd0e6c36dddb88adf0</td>\n",
       "      <td>unavailable</td>\n",
       "      <td>2017-11-16 15:09:28</td>\n",
       "      <td>2017-11-16 15:26:57</td>\n",
       "      <td>NaN</td>\n",
       "      <td>NaN</td>\n",
       "      <td>2017-12-05 00:00:00</td>\n",
       "    </tr>\n",
       "    <tr>\n",
       "      <th>586</th>\n",
       "      <td>c272bcd21c287498b4883c7512019702</td>\n",
       "      <td>9582c5bbecc65eb568e2c1d839b5cba1</td>\n",
       "      <td>unavailable</td>\n",
       "      <td>2018-01-31 11:31:37</td>\n",
       "      <td>2018-01-31 14:23:50</td>\n",
       "      <td>NaN</td>\n",
       "      <td>NaN</td>\n",
       "      <td>2018-02-16 00:00:00</td>\n",
       "    </tr>\n",
       "    <tr>\n",
       "      <th>687</th>\n",
       "      <td>37553832a3a89c9b2db59701c357ca67</td>\n",
       "      <td>7607cd563696c27ede287e515812d528</td>\n",
       "      <td>unavailable</td>\n",
       "      <td>2017-08-14 17:38:02</td>\n",
       "      <td>2017-08-17 00:15:18</td>\n",
       "      <td>NaN</td>\n",
       "      <td>NaN</td>\n",
       "      <td>2017-09-05 00:00:00</td>\n",
       "    </tr>\n",
       "    <tr>\n",
       "      <th>737</th>\n",
       "      <td>d57e15fb07fd180f06ab3926b39edcd2</td>\n",
       "      <td>470b93b3f1cde85550fc74cd3a476c78</td>\n",
       "      <td>unavailable</td>\n",
       "      <td>2018-01-08 19:39:03</td>\n",
       "      <td>2018-01-09 07:26:08</td>\n",
       "      <td>NaN</td>\n",
       "      <td>NaN</td>\n",
       "      <td>2018-02-06 00:00:00</td>\n",
       "    </tr>\n",
       "    <tr>\n",
       "      <th>1130</th>\n",
       "      <td>00b1cb0320190ca0daa2c88b35206009</td>\n",
       "      <td>3532ba38a3fd242259a514ac2b6ae6b6</td>\n",
       "      <td>canceled</td>\n",
       "      <td>2018-08-28 15:26:39</td>\n",
       "      <td>NaN</td>\n",
       "      <td>NaN</td>\n",
       "      <td>NaN</td>\n",
       "      <td>2018-09-12 00:00:00</td>\n",
       "    </tr>\n",
       "    <tr>\n",
       "      <th>...</th>\n",
       "      <td>...</td>\n",
       "      <td>...</td>\n",
       "      <td>...</td>\n",
       "      <td>...</td>\n",
       "      <td>...</td>\n",
       "      <td>...</td>\n",
       "      <td>...</td>\n",
       "      <td>...</td>\n",
       "    </tr>\n",
       "    <tr>\n",
       "      <th>99252</th>\n",
       "      <td>aaab15da689073f8f9aa978a390a69d1</td>\n",
       "      <td>df20748206e4b865b2f14a5eabbfcf34</td>\n",
       "      <td>unavailable</td>\n",
       "      <td>2018-01-16 14:27:59</td>\n",
       "      <td>2018-01-17 03:37:34</td>\n",
       "      <td>NaN</td>\n",
       "      <td>NaN</td>\n",
       "      <td>2018-02-06 00:00:00</td>\n",
       "    </tr>\n",
       "    <tr>\n",
       "      <th>99283</th>\n",
       "      <td>3a3cddda5a7c27851bd96c3313412840</td>\n",
       "      <td>0b0d6095c5555fe083844281f6b093bb</td>\n",
       "      <td>canceled</td>\n",
       "      <td>2018-08-31 16:13:44</td>\n",
       "      <td>NaN</td>\n",
       "      <td>NaN</td>\n",
       "      <td>NaN</td>\n",
       "      <td>2018-10-01 00:00:00</td>\n",
       "    </tr>\n",
       "    <tr>\n",
       "      <th>99347</th>\n",
       "      <td>a89abace0dcc01eeb267a9660b5ac126</td>\n",
       "      <td>2f0524a7b1b3845a1a57fcf3910c4333</td>\n",
       "      <td>canceled</td>\n",
       "      <td>2018-09-06 18:45:47</td>\n",
       "      <td>NaN</td>\n",
       "      <td>NaN</td>\n",
       "      <td>NaN</td>\n",
       "      <td>2018-09-27 00:00:00</td>\n",
       "    </tr>\n",
       "    <tr>\n",
       "      <th>99348</th>\n",
       "      <td>a69ba794cc7deb415c3e15a0a3877e69</td>\n",
       "      <td>726f0894b5becdf952ea537d5266e543</td>\n",
       "      <td>unavailable</td>\n",
       "      <td>2017-08-23 16:28:04</td>\n",
       "      <td>2017-08-28 15:44:47</td>\n",
       "      <td>NaN</td>\n",
       "      <td>NaN</td>\n",
       "      <td>2017-09-15 00:00:00</td>\n",
       "    </tr>\n",
       "    <tr>\n",
       "      <th>99415</th>\n",
       "      <td>5fabc81b6322c8443648e1b21a6fef21</td>\n",
       "      <td>32c9df889d41b0ee8309a5efb6855dcb</td>\n",
       "      <td>unavailable</td>\n",
       "      <td>2017-10-10 10:50:03</td>\n",
       "      <td>2017-10-14 18:35:57</td>\n",
       "      <td>NaN</td>\n",
       "      <td>NaN</td>\n",
       "      <td>2017-10-23 00:00:00</td>\n",
       "    </tr>\n",
       "  </tbody>\n",
       "</table>\n",
       "<p>775 rows × 8 columns</p>\n",
       "</div>"
      ],
      "text/plain": [
       "                               order_id                       customer_id  \\\n",
       "266    8e24261a7e58791d10cb1bf9da94df5c  64a254d30eed42cd0e6c36dddb88adf0   \n",
       "586    c272bcd21c287498b4883c7512019702  9582c5bbecc65eb568e2c1d839b5cba1   \n",
       "687    37553832a3a89c9b2db59701c357ca67  7607cd563696c27ede287e515812d528   \n",
       "737    d57e15fb07fd180f06ab3926b39edcd2  470b93b3f1cde85550fc74cd3a476c78   \n",
       "1130   00b1cb0320190ca0daa2c88b35206009  3532ba38a3fd242259a514ac2b6ae6b6   \n",
       "...                                 ...                               ...   \n",
       "99252  aaab15da689073f8f9aa978a390a69d1  df20748206e4b865b2f14a5eabbfcf34   \n",
       "99283  3a3cddda5a7c27851bd96c3313412840  0b0d6095c5555fe083844281f6b093bb   \n",
       "99347  a89abace0dcc01eeb267a9660b5ac126  2f0524a7b1b3845a1a57fcf3910c4333   \n",
       "99348  a69ba794cc7deb415c3e15a0a3877e69  726f0894b5becdf952ea537d5266e543   \n",
       "99415  5fabc81b6322c8443648e1b21a6fef21  32c9df889d41b0ee8309a5efb6855dcb   \n",
       "\n",
       "      order_status order_purchase_timestamp    order_approved_at  \\\n",
       "266    unavailable      2017-11-16 15:09:28  2017-11-16 15:26:57   \n",
       "586    unavailable      2018-01-31 11:31:37  2018-01-31 14:23:50   \n",
       "687    unavailable      2017-08-14 17:38:02  2017-08-17 00:15:18   \n",
       "737    unavailable      2018-01-08 19:39:03  2018-01-09 07:26:08   \n",
       "1130      canceled      2018-08-28 15:26:39                  NaN   \n",
       "...            ...                      ...                  ...   \n",
       "99252  unavailable      2018-01-16 14:27:59  2018-01-17 03:37:34   \n",
       "99283     canceled      2018-08-31 16:13:44                  NaN   \n",
       "99347     canceled      2018-09-06 18:45:47                  NaN   \n",
       "99348  unavailable      2017-08-23 16:28:04  2017-08-28 15:44:47   \n",
       "99415  unavailable      2017-10-10 10:50:03  2017-10-14 18:35:57   \n",
       "\n",
       "      order_delivered_carrier_date order_delivered_customer_date  \\\n",
       "266                            NaN                           NaN   \n",
       "586                            NaN                           NaN   \n",
       "687                            NaN                           NaN   \n",
       "737                            NaN                           NaN   \n",
       "1130                           NaN                           NaN   \n",
       "...                            ...                           ...   \n",
       "99252                          NaN                           NaN   \n",
       "99283                          NaN                           NaN   \n",
       "99347                          NaN                           NaN   \n",
       "99348                          NaN                           NaN   \n",
       "99415                          NaN                           NaN   \n",
       "\n",
       "      order_estimated_delivery_date  \n",
       "266             2017-12-05 00:00:00  \n",
       "586             2018-02-16 00:00:00  \n",
       "687             2017-09-05 00:00:00  \n",
       "737             2018-02-06 00:00:00  \n",
       "1130            2018-09-12 00:00:00  \n",
       "...                             ...  \n",
       "99252           2018-02-06 00:00:00  \n",
       "99283           2018-10-01 00:00:00  \n",
       "99347           2018-09-27 00:00:00  \n",
       "99348           2017-09-15 00:00:00  \n",
       "99415           2017-10-23 00:00:00  \n",
       "\n",
       "[775 rows x 8 columns]"
      ]
     },
     "execution_count": 12,
     "metadata": {},
     "output_type": "execute_result"
    }
   ],
   "source": [
    "#Finding list of missing order_id\n",
    "missinglist = []\n",
    "testset = set(orderitems.order_id)\n",
    "for x in orders.order_id:\n",
    "    if x in testset:\n",
    "        continue\n",
    "    else:\n",
    "        missinglist.append(x)\n",
    "        \n",
    "\n",
    "#Extracting missing data from orders dataset\n",
    "missingdf = pd.DataFrame\n",
    "missingdf = orders[orders['order_id'].isin(missinglist)]\n",
    "missingdf.info()\n",
    "missingdf"
   ]
  },
  {
   "cell_type": "markdown",
   "metadata": {},
   "source": [
    "### Missing order_ids found to be cancelled / unsuccessful orders. As such, we will drop these orders from all datasets."
   ]
  },
  {
   "cell_type": "code",
   "execution_count": 13,
   "metadata": {},
   "outputs": [
    {
     "name": "stdout",
     "output_type": "stream",
     "text": [
      "98666\n",
      "98666\n",
      "98665\n",
      "98666\n"
     ]
    }
   ],
   "source": [
    "neworders = orders[~orders.order_id.isin(missinglist)]\n",
    "neworderpayments = orderpayments[~orderpayments.order_id.isin(missinglist)]\n",
    "neworderreviews = orderreviews[~orderreviews.order_id.isin(missinglist)]\n",
    "\n",
    "print(len(orderitems.order_id.unique()))\n",
    "print(len(neworders.order_id.unique()))\n",
    "print(len(neworderpayments.order_id.unique()))\n",
    "print(len(neworderreviews.order_id.unique()))"
   ]
  },
  {
   "cell_type": "markdown",
   "metadata": {},
   "source": [
    "### There is still one missing value in order payments. Let's find out"
   ]
  },
  {
   "cell_type": "code",
   "execution_count": 14,
   "metadata": {},
   "outputs": [
    {
     "data": {
      "text/html": [
       "<div>\n",
       "<style scoped>\n",
       "    .dataframe tbody tr th:only-of-type {\n",
       "        vertical-align: middle;\n",
       "    }\n",
       "\n",
       "    .dataframe tbody tr th {\n",
       "        vertical-align: top;\n",
       "    }\n",
       "\n",
       "    .dataframe thead th {\n",
       "        text-align: right;\n",
       "    }\n",
       "</style>\n",
       "<table border=\"1\" class=\"dataframe\">\n",
       "  <thead>\n",
       "    <tr style=\"text-align: right;\">\n",
       "      <th></th>\n",
       "      <th>review_id</th>\n",
       "      <th>order_id</th>\n",
       "      <th>review_score</th>\n",
       "      <th>review_comment_title</th>\n",
       "      <th>review_comment_message</th>\n",
       "      <th>review_creation_date</th>\n",
       "      <th>review_answer_timestamp</th>\n",
       "    </tr>\n",
       "  </thead>\n",
       "  <tbody>\n",
       "    <tr>\n",
       "      <th>37828</th>\n",
       "      <td>6916ca4502d6d3bfd39818759d55d536</td>\n",
       "      <td>bfbd0f9bdef84302105ad712db648a6c</td>\n",
       "      <td>1</td>\n",
       "      <td>NaN</td>\n",
       "      <td>nao recebi o produto e nem resposta da empresa</td>\n",
       "      <td>2016-10-06 00:00:00</td>\n",
       "      <td>2016-10-07 18:32:28</td>\n",
       "    </tr>\n",
       "  </tbody>\n",
       "</table>\n",
       "</div>"
      ],
      "text/plain": [
       "                              review_id                          order_id  \\\n",
       "37828  6916ca4502d6d3bfd39818759d55d536  bfbd0f9bdef84302105ad712db648a6c   \n",
       "\n",
       "       review_score review_comment_title  \\\n",
       "37828             1                  NaN   \n",
       "\n",
       "                               review_comment_message review_creation_date  \\\n",
       "37828  nao recebi o produto e nem resposta da empresa  2016-10-06 00:00:00   \n",
       "\n",
       "      review_answer_timestamp  \n",
       "37828     2016-10-07 18:32:28  "
      ]
     },
     "execution_count": 14,
     "metadata": {},
     "output_type": "execute_result"
    }
   ],
   "source": [
    "missinglist = []\n",
    "testset = set(neworderpayments.order_id)\n",
    "for x in orderitems.order_id:\n",
    "    if x in testset:\n",
    "        continue\n",
    "    else:\n",
    "        missinglist.append(x)\n",
    "\n",
    "#Extracting missing data from orders dataset\n",
    "missingdf = pd.DataFrame\n",
    "missingdf = neworderreviews[neworderreviews['order_id'].isin(missinglist)]\n",
    "missingdf"
   ]
  },
  {
   "cell_type": "markdown",
   "metadata": {},
   "source": [
    "##### \"nao recebi o produto e nem resposta da empresa\" =  I did not receive the product and no response from the company\n",
    "##### So we will drop this order_id as well\n",
    "##### Seems to have some missing values in delivery date under orders dataset as well"
   ]
  },
  {
   "cell_type": "code",
   "execution_count": 15,
   "metadata": {},
   "outputs": [
    {
     "name": "stdout",
     "output_type": "stream",
     "text": [
      "<class 'pandas.core.frame.DataFrame'>\n",
      "RangeIndex: 99441 entries, 0 to 99440\n",
      "Data columns (total 8 columns):\n",
      " #   Column                         Non-Null Count  Dtype \n",
      "---  ------                         --------------  ----- \n",
      " 0   order_id                       99441 non-null  object\n",
      " 1   customer_id                    99441 non-null  object\n",
      " 2   order_status                   99441 non-null  object\n",
      " 3   order_purchase_timestamp       99441 non-null  object\n",
      " 4   order_approved_at              99281 non-null  object\n",
      " 5   order_delivered_carrier_date   97658 non-null  object\n",
      " 6   order_delivered_customer_date  96476 non-null  object\n",
      " 7   order_estimated_delivery_date  99441 non-null  object\n",
      "dtypes: object(8)\n",
      "memory usage: 6.1+ MB\n"
     ]
    }
   ],
   "source": [
    "orders.info()"
   ]
  },
  {
   "cell_type": "markdown",
   "metadata": {},
   "source": [
    "#### Presence of NA values in column 5 and 6. As such, we will drop those too."
   ]
  },
  {
   "cell_type": "code",
   "execution_count": 16,
   "metadata": {},
   "outputs": [
    {
     "name": "stdout",
     "output_type": "stream",
     "text": [
      "96475\n",
      "96475\n",
      "96475\n",
      "96475\n"
     ]
    },
    {
     "data": {
      "text/html": [
       "<div>\n",
       "<style scoped>\n",
       "    .dataframe tbody tr th:only-of-type {\n",
       "        vertical-align: middle;\n",
       "    }\n",
       "\n",
       "    .dataframe tbody tr th {\n",
       "        vertical-align: top;\n",
       "    }\n",
       "\n",
       "    .dataframe thead th {\n",
       "        text-align: right;\n",
       "    }\n",
       "</style>\n",
       "<table border=\"1\" class=\"dataframe\">\n",
       "  <thead>\n",
       "    <tr style=\"text-align: right;\">\n",
       "      <th></th>\n",
       "      <th>order_id</th>\n",
       "      <th>customer_id</th>\n",
       "      <th>order_status</th>\n",
       "      <th>order_purchase_timestamp</th>\n",
       "      <th>order_approved_at</th>\n",
       "      <th>order_delivered_carrier_date</th>\n",
       "      <th>order_delivered_customer_date</th>\n",
       "      <th>order_estimated_delivery_date</th>\n",
       "    </tr>\n",
       "  </thead>\n",
       "  <tbody>\n",
       "  </tbody>\n",
       "</table>\n",
       "</div>"
      ],
      "text/plain": [
       "Empty DataFrame\n",
       "Columns: [order_id, customer_id, order_status, order_purchase_timestamp, order_approved_at, order_delivered_carrier_date, order_delivered_customer_date, order_estimated_delivery_date]\n",
       "Index: []"
      ]
     },
     "execution_count": 16,
     "metadata": {},
     "output_type": "execute_result"
    }
   ],
   "source": [
    "x = orders[orders['order_delivered_customer_date'].isna()]\n",
    "a = x.order_id.tolist()\n",
    "y = orders[orders['order_delivered_carrier_date'].isna()]\n",
    "b = x.order_id.tolist()\n",
    "z = orders[orders['order_approved_at'].isna()]\n",
    "c = x.order_id.tolist()\n",
    "d = a+b+c+missinglist\n",
    "miss = set(d)\n",
    "\n",
    "newerorders = neworders[~neworders.order_id.isin(miss)]\n",
    "newerorderpayments = neworderpayments[~neworderpayments.order_id.isin(miss)]\n",
    "newerorderreviews = neworderreviews[~neworderreviews.order_id.isin(miss)]\n",
    "newerorderitems = orderitems[~orderitems.order_id.isin(miss)]\n",
    "\n",
    "print(len(newerorderitems.order_id.unique()))\n",
    "print(len(newerorders.order_id.unique()))\n",
    "print(len(newerorderpayments.order_id.unique()))\n",
    "print(len(newerorderreviews.order_id.unique()))\n",
    "\n",
    "newerorders[newerorders[\"order_delivered_customer_date\"].isna()]"
   ]
  },
  {
   "cell_type": "markdown",
   "metadata": {},
   "source": [
    "## Here we will create a new column \"delivery_time\" based on the order date and delivery date. We also translate the category names. We will use these variables in our decision tree later"
   ]
  },
  {
   "cell_type": "code",
   "execution_count": 17,
   "metadata": {},
   "outputs": [
    {
     "name": "stderr",
     "output_type": "stream",
     "text": [
      "<ipython-input-17-6a5d14ee95d1>:12: SettingWithCopyWarning: \n",
      "A value is trying to be set on a copy of a slice from a DataFrame.\n",
      "Try using .loc[row_indexer,col_indexer] = value instead\n",
      "\n",
      "See the caveats in the documentation: https://pandas.pydata.org/pandas-docs/stable/user_guide/indexing.html#returning-a-view-versus-a-copy\n",
      "  datexy['delivery_time'] = np.nan\n",
      "C:\\Users\\bawj\\anaconda3\\lib\\site-packages\\pandas\\core\\indexing.py:1765: SettingWithCopyWarning: \n",
      "A value is trying to be set on a copy of a slice from a DataFrame.\n",
      "Try using .loc[row_indexer,col_indexer] = value instead\n",
      "\n",
      "See the caveats in the documentation: https://pandas.pydata.org/pandas-docs/stable/user_guide/indexing.html#returning-a-view-versus-a-copy\n",
      "  isetter(loc, value)\n"
     ]
    }
   ],
   "source": [
    "from datetime import date\n",
    " \n",
    "def numOfDays(date1, date2):\n",
    "    return (date2-date1).days\n",
    "\n",
    "datexy = newerorders[[\"order_id\",\"order_purchase_timestamp\",\"order_delivered_customer_date\"]]\n",
    "datexy.reset_index(inplace=True)\n",
    "datex=newerorders.order_purchase_timestamp\n",
    "datey=newerorders.order_delivered_customer_date\n",
    "\n",
    "delivery_days = []\n",
    "datexy['delivery_time'] = np.nan\n",
    "for x in range(96475):\n",
    "    year1=datexy.loc[x][\"order_purchase_timestamp\"][:4]\n",
    "    month1=datexy.loc[x][\"order_purchase_timestamp\"][5:7]\n",
    "    day1=datexy.loc[x][\"order_purchase_timestamp\"][8:10]\n",
    "    year2=datexy.loc[x][\"order_delivered_customer_date\"][:4]\n",
    "    month2=datexy.loc[x][\"order_delivered_customer_date\"][5:7]\n",
    "    day2=datexy.loc[x][\"order_delivered_customer_date\"][8:10]\n",
    "    date1 =date(int(year1),int(month1),int(day1))\n",
    "    date2 =date(int(year2),int(month2),int(day2))\n",
    "    if numOfDays(date1,date2)!=0:\n",
    "        #delivery_days.append(numOfDays(date1, date2))\n",
    "        datexy.loc[x, \"delivery_time\"] = numOfDays(date1, date2)\n",
    "        #print(numOfDays(date1,date2))\n",
    "        \n",
    "# Merge the dataframes to obtain new column for delivery time\n",
    "newerorders = pd.merge(newerorders,datexy[['order_id','delivery_time']],on='order_id', how='left')"
   ]
  },
  {
   "cell_type": "markdown",
   "metadata": {},
   "source": [
    "### Now we will concat these dataframes together"
   ]
  },
  {
   "cell_type": "code",
   "execution_count": 18,
   "metadata": {},
   "outputs": [],
   "source": [
    "new = pd.merge(newerorderitems, newerorderpayments, on='order_id')\n",
    "new1 = pd.merge(new, newerorderreviews, on='order_id')\n",
    "new2 = pd.merge(new1, newerorders, on='order_id')\n",
    "completedata = pd.merge(new2, products, on='product_id')\n",
    "\n",
    "# translate category names to english\n",
    "translate = translation.set_index('product_category_name').to_dict()['product_category_name_english']\n",
    "\n",
    "completedata['product_category_name'].replace(translate, inplace=True)"
   ]
  },
  {
   "cell_type": "markdown",
   "metadata": {},
   "source": [
    "## Still have some null values in product category, description, etc. We will drop all these rows."
   ]
  },
  {
   "cell_type": "code",
   "execution_count": 19,
   "metadata": {},
   "outputs": [
    {
     "name": "stdout",
     "output_type": "stream",
     "text": [
      "<class 'pandas.core.frame.DataFrame'>\n",
      "Int64Index: 114087 entries, 0 to 115726\n",
      "Data columns (total 33 columns):\n",
      " #   Column                         Non-Null Count   Dtype  \n",
      "---  ------                         --------------   -----  \n",
      " 0   order_id                       114087 non-null  object \n",
      " 1   order_item_id                  114087 non-null  int64  \n",
      " 2   product_id                     114087 non-null  object \n",
      " 3   seller_id                      114087 non-null  object \n",
      " 4   shipping_limit_date            114087 non-null  object \n",
      " 5   price                          114087 non-null  float64\n",
      " 6   freight_value                  114087 non-null  float64\n",
      " 7   payment_sequential             114087 non-null  int64  \n",
      " 8   payment_type                   114087 non-null  object \n",
      " 9   payment_installments           114087 non-null  int64  \n",
      " 10  payment_value                  114087 non-null  float64\n",
      " 11  review_id                      114087 non-null  object \n",
      " 12  review_score                   114087 non-null  int64  \n",
      " 13  review_comment_title           13667 non-null   object \n",
      " 14  review_comment_message         48234 non-null   object \n",
      " 15  review_creation_date           114087 non-null  object \n",
      " 16  review_answer_timestamp        114087 non-null  object \n",
      " 17  customer_id                    114087 non-null  object \n",
      " 18  order_status                   114087 non-null  object \n",
      " 19  order_purchase_timestamp       114087 non-null  object \n",
      " 20  order_approved_at              114073 non-null  object \n",
      " 21  order_delivered_carrier_date   114086 non-null  object \n",
      " 22  order_delivered_customer_date  114087 non-null  object \n",
      " 23  order_estimated_delivery_date  114087 non-null  object \n",
      " 24  delivery_time                  114087 non-null  float64\n",
      " 25  product_category_name          114087 non-null  int8   \n",
      " 26  product_name_lenght            114087 non-null  float64\n",
      " 27  product_description_lenght     114087 non-null  float64\n",
      " 28  product_photos_qty             114087 non-null  float64\n",
      " 29  product_weight_g               114087 non-null  float64\n",
      " 30  product_length_cm              114087 non-null  float64\n",
      " 31  product_height_cm              114087 non-null  float64\n",
      " 32  product_width_cm               114087 non-null  float64\n",
      "dtypes: float64(11), int64(4), int8(1), object(17)\n",
      "memory usage: 28.8+ MB\n"
     ]
    },
    {
     "name": "stderr",
     "output_type": "stream",
     "text": [
      "<ipython-input-19-c7f2777c29ea>:2: SettingWithCopyWarning: \n",
      "A value is trying to be set on a copy of a slice from a DataFrame.\n",
      "Try using .loc[row_indexer,col_indexer] = value instead\n",
      "\n",
      "See the caveats in the documentation: https://pandas.pydata.org/pandas-docs/stable/user_guide/indexing.html#returning-a-view-versus-a-copy\n",
      "  finaldata[\"product_category_name\"] = finaldata[\"product_category_name\"].astype('category')\n",
      "<ipython-input-19-c7f2777c29ea>:3: SettingWithCopyWarning: \n",
      "A value is trying to be set on a copy of a slice from a DataFrame.\n",
      "Try using .loc[row_indexer,col_indexer] = value instead\n",
      "\n",
      "See the caveats in the documentation: https://pandas.pydata.org/pandas-docs/stable/user_guide/indexing.html#returning-a-view-versus-a-copy\n",
      "  finaldata[\"product_category_name\"] = finaldata[\"product_category_name\"].cat.codes\n"
     ]
    }
   ],
   "source": [
    "finaldata = completedata.dropna(subset = ['product_category_name','product_name_lenght','product_description_lenght','product_photos_qty','product_weight_g','product_length_cm','product_height_cm','product_width_cm','delivery_time'])\n",
    "finaldata[\"product_category_name\"] = finaldata[\"product_category_name\"].astype('category')\n",
    "finaldata[\"product_category_name\"] = finaldata[\"product_category_name\"].cat.codes\n",
    "finaldata.info()"
   ]
  },
  {
   "cell_type": "markdown",
   "metadata": {},
   "source": [
    "## Here we will add another new column \"review_response_days\" based on the creation and response date of the review"
   ]
  },
  {
   "cell_type": "code",
   "execution_count": 20,
   "metadata": {},
   "outputs": [
    {
     "name": "stderr",
     "output_type": "stream",
     "text": [
      "<ipython-input-20-e64e0fee0e00>:6: SettingWithCopyWarning: \n",
      "A value is trying to be set on a copy of a slice from a DataFrame.\n",
      "Try using .loc[row_indexer,col_indexer] = value instead\n",
      "\n",
      "See the caveats in the documentation: https://pandas.pydata.org/pandas-docs/stable/user_guide/indexing.html#returning-a-view-versus-a-copy\n",
      "  dateab['review_response_days'] = np.nan\n",
      "C:\\Users\\bawj\\anaconda3\\lib\\site-packages\\pandas\\core\\indexing.py:1765: SettingWithCopyWarning: \n",
      "A value is trying to be set on a copy of a slice from a DataFrame.\n",
      "Try using .loc[row_indexer,col_indexer] = value instead\n",
      "\n",
      "See the caveats in the documentation: https://pandas.pydata.org/pandas-docs/stable/user_guide/indexing.html#returning-a-view-versus-a-copy\n",
      "  isetter(loc, value)\n"
     ]
    }
   ],
   "source": [
    "dateab = completedata[[\"review_id\",\"review_creation_date\",\"review_answer_timestamp\"]]\n",
    "dateab.reset_index(inplace=True)\n",
    "datea=completedata.review_creation_date\n",
    "dateb=completedata.review_answer_timestamp\n",
    "review_response_days = []\n",
    "dateab['review_response_days'] = np.nan\n",
    "for x in range(115726):\n",
    "    yeara=dateab.loc[x][\"review_creation_date\"][:4]\n",
    "    montha=dateab.loc[x][\"review_creation_date\"][5:7]\n",
    "    daya=dateab.loc[x][\"review_creation_date\"][8:10]\n",
    "    yearb=dateab.loc[x][\"review_answer_timestamp\"][:4]\n",
    "    monthb=dateab.loc[x][\"review_answer_timestamp\"][5:7]\n",
    "    dayb=dateab.loc[x][\"review_answer_timestamp\"][8:10]\n",
    "    dateA =date(int(yeara),int(montha),int(daya))\n",
    "    dateB =date(int(yearb),int(monthb),int(dayb))\n",
    "    if numOfDays(dateA,dateB)!=0:\n",
    "        #delivery_days.append(numOfDays(date1, date2))\n",
    "        dateab.loc[x, \"review_response_days\"] = numOfDays(dateA, dateB)\n",
    "        #print(numOfDays(dateA,dateB))\n",
    "\n",
    "        \n",
    "finaldata = pd.merge(completedata,dateab[['review_id','review_response_days']],on='review_id')"
   ]
  },
  {
   "cell_type": "markdown",
   "metadata": {},
   "source": [
    "# The complete dataset"
   ]
  },
  {
   "cell_type": "code",
   "execution_count": 21,
   "metadata": {},
   "outputs": [
    {
     "name": "stdout",
     "output_type": "stream",
     "text": [
      "<class 'pandas.core.frame.DataFrame'>\n",
      "Int64Index: 192761 entries, 0 to 192760\n",
      "Data columns (total 34 columns):\n",
      " #   Column                         Non-Null Count   Dtype  \n",
      "---  ------                         --------------   -----  \n",
      " 0   order_id                       192761 non-null  object \n",
      " 1   order_item_id                  192761 non-null  int64  \n",
      " 2   product_id                     192761 non-null  object \n",
      " 3   seller_id                      192761 non-null  object \n",
      " 4   shipping_limit_date            192761 non-null  object \n",
      " 5   price                          192761 non-null  float64\n",
      " 6   freight_value                  192761 non-null  float64\n",
      " 7   payment_sequential             192761 non-null  int64  \n",
      " 8   payment_type                   192761 non-null  object \n",
      " 9   payment_installments           192761 non-null  int64  \n",
      " 10  payment_value                  192761 non-null  float64\n",
      " 11  review_id                      192761 non-null  object \n",
      " 12  review_score                   192761 non-null  int64  \n",
      " 13  review_comment_title           21879 non-null   object \n",
      " 14  review_comment_message         83285 non-null   object \n",
      " 15  review_creation_date           192761 non-null  object \n",
      " 16  review_answer_timestamp        192761 non-null  object \n",
      " 17  customer_id                    192761 non-null  object \n",
      " 18  order_status                   192761 non-null  object \n",
      " 19  order_purchase_timestamp       192761 non-null  object \n",
      " 20  order_approved_at              192744 non-null  object \n",
      " 21  order_delivered_carrier_date   192760 non-null  object \n",
      " 22  order_delivered_customer_date  192761 non-null  object \n",
      " 23  order_estimated_delivery_date  192761 non-null  object \n",
      " 24  delivery_time                  192760 non-null  float64\n",
      " 25  product_category_name          190028 non-null  object \n",
      " 26  product_name_lenght            190028 non-null  float64\n",
      " 27  product_description_lenght     190028 non-null  float64\n",
      " 28  product_photos_qty             190028 non-null  float64\n",
      " 29  product_weight_g               192731 non-null  float64\n",
      " 30  product_length_cm              192731 non-null  float64\n",
      " 31  product_height_cm              192731 non-null  float64\n",
      " 32  product_width_cm               192731 non-null  float64\n",
      " 33  review_response_days           147047 non-null  float64\n",
      "dtypes: float64(12), int64(4), object(18)\n",
      "memory usage: 51.5+ MB\n"
     ]
    }
   ],
   "source": [
    "finaldata.info()"
   ]
  }
 ],
 "metadata": {
  "kernelspec": {
   "display_name": "Python 3",
   "language": "python",
   "name": "python3"
  },
  "language_info": {
   "codemirror_mode": {
    "name": "ipython",
    "version": 3
   },
   "file_extension": ".py",
   "mimetype": "text/x-python",
   "name": "python",
   "nbconvert_exporter": "python",
   "pygments_lexer": "ipython3",
   "version": "3.8.3"
  }
 },
 "nbformat": 4,
 "nbformat_minor": 4
}
