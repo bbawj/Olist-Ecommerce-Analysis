{
 "cells": [
  {
   "cell_type": "code",
   "execution_count": 1,
   "metadata": {},
   "outputs": [
    {
     "name": "stdout",
     "output_type": "stream",
     "text": [
      "98666\n"
     ]
    }
   ],
   "source": [
    "import pandas as pd\n",
    "\n",
    "#data1 = pd.read_csv(\"olist_customers_dataset.csv\")\n",
    "data2 = pd.read_csv(\"olist_order_items_dataset.csv\")\n",
    "data3 = pd.read_csv(\"olist_order_payments_dataset.csv\")\n",
    "data4 = pd.read_csv(\"olist_order_reviews_dataset.csv\")\n",
    "data5 = pd.read_csv(\"olist_orders_dataset.csv\")\n",
    "data6 = pd.read_csv(\"olist_products_dataset.csv\")\n",
    "\n",
    "\n",
    "new = pd.merge(data2, data3, on='order_id')\n",
    "new1 = pd.merge(new, data4, on='order_id')\n",
    "new2 = pd.merge(new1, data5, on='order_id')\n",
    "new3 = pd.merge(new2, data6, on='product_id')\n",
    "print(len(data2.order_id.unique()))\n",
    "\n"
   ]
  },
  {
   "cell_type": "code",
   "execution_count": 3,
   "metadata": {},
   "outputs": [
    {
     "name": "stdout",
     "output_type": "stream",
     "text": [
      "<class 'pandas.core.frame.DataFrame'>\n",
      "Int64Index: 118315 entries, 0 to 118314\n",
      "Data columns (total 32 columns):\n",
      " #   Column                         Non-Null Count   Dtype  \n",
      "---  ------                         --------------   -----  \n",
      " 0   order_id                       118315 non-null  object \n",
      " 1   order_item_id                  118315 non-null  int64  \n",
      " 2   product_id                     118315 non-null  object \n",
      " 3   seller_id                      118315 non-null  object \n",
      " 4   shipping_limit_date            118315 non-null  object \n",
      " 5   price                          118315 non-null  float64\n",
      " 6   freight_value                  118315 non-null  float64\n",
      " 7   payment_sequential             118315 non-null  int64  \n",
      " 8   payment_type                   118315 non-null  object \n",
      " 9   payment_installments           118315 non-null  int64  \n",
      " 10  payment_value                  118315 non-null  float64\n",
      " 11  review_id                      118315 non-null  object \n",
      " 12  review_score                   118315 non-null  int64  \n",
      " 13  review_comment_title           14089 non-null   object \n",
      " 14  review_comment_message         50665 non-null   object \n",
      " 15  review_creation_date           118315 non-null  object \n",
      " 16  review_answer_timestamp        118315 non-null  object \n",
      " 17  customer_id                    118315 non-null  object \n",
      " 18  order_status                   118315 non-null  object \n",
      " 19  order_purchase_timestamp       118315 non-null  object \n",
      " 20  order_approved_at              118300 non-null  object \n",
      " 21  order_delivered_carrier_date   117061 non-null  object \n",
      " 22  order_delivered_customer_date  115727 non-null  object \n",
      " 23  order_estimated_delivery_date  118315 non-null  object \n",
      " 24  product_category_name          116606 non-null  object \n",
      " 25  product_name_lenght            116606 non-null  float64\n",
      " 26  product_description_lenght     116606 non-null  float64\n",
      " 27  product_photos_qty             116606 non-null  float64\n",
      " 28  product_weight_g               118295 non-null  float64\n",
      " 29  product_length_cm              118295 non-null  float64\n",
      " 30  product_height_cm              118295 non-null  float64\n",
      " 31  product_width_cm               118295 non-null  float64\n",
      "dtypes: float64(10), int64(4), object(18)\n",
      "memory usage: 29.8+ MB\n"
     ]
    }
   ],
   "source": [
    "new3.info()\n"
   ]
  },
  {
   "cell_type": "code",
   "execution_count": 89,
   "metadata": {},
   "outputs": [
    {
     "data": {
      "text/plain": [
       "0     2017-09-20 23:43:48\n",
       "1     2017-07-13 20:39:29\n",
       "2     2018-06-04 18:34:26\n",
       "3     2017-08-09 21:26:33\n",
       "4     2017-08-24 20:04:21\n",
       "5     2017-08-31 20:19:52\n",
       "6     2018-03-28 21:57:44\n",
       "7     2017-08-14 18:13:03\n",
       "8     2017-06-26 13:52:03\n",
       "9     2017-06-26 13:52:03\n",
       "10    2017-06-26 13:52:03\n",
       "11    2017-05-12 16:04:24\n",
       "12    2018-01-22 13:19:16\n",
       "13    2017-11-08 17:34:39\n",
       "14    2018-01-11 14:05:36\n",
       "15    2018-08-14 13:32:39\n",
       "16    2018-08-27 18:51:17\n",
       "17    2017-03-01 16:42:31\n",
       "18    2018-04-02 22:32:10\n",
       "19    2017-06-01 12:19:57\n",
       "20    2018-01-26 18:22:33\n",
       "21    2018-02-27 19:59:01\n",
       "22    2017-06-06 14:43:55\n",
       "23    2018-01-10 18:04:25\n",
       "24    2018-03-26 22:32:41\n",
       "25    2017-05-19 06:34:03\n",
       "26    2017-09-01 17:35:12\n",
       "27                    NaN\n",
       "Name: order_delivered_customer_date, dtype: object"
      ]
     },
     "execution_count": 89,
     "metadata": {},
     "output_type": "execute_result"
    }
   ],
   "source": [
    "new3.order_delivered_customer_date[:28] "
   ]
  },
  {
   "cell_type": "code",
   "execution_count": 101,
   "metadata": {},
   "outputs": [
    {
     "name": "stdout",
     "output_type": "stream",
     "text": [
      "True\n"
     ]
    }
   ],
   "source": [
    "\n",
    "print(new3.order_delivered_customer_date[27]is(nan))"
   ]
  },
  {
   "cell_type": "code",
   "execution_count": 108,
   "metadata": {},
   "outputs": [
    {
     "name": "stdout",
     "output_type": "stream",
     "text": [
      "2017\n"
     ]
    },
    {
     "ename": "ValueError",
     "evalue": "The truth value of a Series is ambiguous. Use a.empty, a.bool(), a.item(), a.any() or a.all().",
     "output_type": "error",
     "traceback": [
      "\u001b[1;31m---------------------------------------------------------------------------\u001b[0m",
      "\u001b[1;31mValueError\u001b[0m                                Traceback (most recent call last)",
      "\u001b[1;32m<ipython-input-108-3aca2053fadd>\u001b[0m in \u001b[0;36m<module>\u001b[1;34m\u001b[0m\n\u001b[0;32m      9\u001b[0m \u001b[1;31m# Driver program\u001b[0m\u001b[1;33m\u001b[0m\u001b[1;33m\u001b[0m\u001b[1;33m\u001b[0m\u001b[0m\n\u001b[0;32m     10\u001b[0m \u001b[1;32mfor\u001b[0m \u001b[0mi\u001b[0m \u001b[1;32min\u001b[0m \u001b[0mrange\u001b[0m\u001b[1;33m(\u001b[0m\u001b[1;36m100\u001b[0m\u001b[1;33m)\u001b[0m\u001b[1;33m:\u001b[0m\u001b[1;33m\u001b[0m\u001b[1;33m\u001b[0m\u001b[0m\n\u001b[1;32m---> 11\u001b[1;33m     \u001b[1;32mif\u001b[0m \u001b[0mdatey\u001b[0m\u001b[1;33m.\u001b[0m\u001b[0misnull\u001b[0m\u001b[1;33m(\u001b[0m\u001b[1;33m)\u001b[0m\u001b[1;33m:\u001b[0m\u001b[1;33m\u001b[0m\u001b[1;33m\u001b[0m\u001b[0m\n\u001b[0m\u001b[0;32m     12\u001b[0m         \u001b[0mprint\u001b[0m\u001b[1;33m(\u001b[0m\u001b[1;34m\"not delivered.\"\u001b[0m\u001b[1;33m)\u001b[0m\u001b[1;33m\u001b[0m\u001b[1;33m\u001b[0m\u001b[0m\n\u001b[0;32m     13\u001b[0m         \u001b[0mi\u001b[0m\u001b[1;33m+=\u001b[0m\u001b[1;36m1\u001b[0m\u001b[1;33m\u001b[0m\u001b[1;33m\u001b[0m\u001b[0m\n",
      "\u001b[1;32mC:\\anaconda\\lib\\site-packages\\pandas\\core\\generic.py\u001b[0m in \u001b[0;36m__nonzero__\u001b[1;34m(self)\u001b[0m\n\u001b[0;32m   1328\u001b[0m     \u001b[1;32mdef\u001b[0m \u001b[0m__nonzero__\u001b[0m\u001b[1;33m(\u001b[0m\u001b[0mself\u001b[0m\u001b[1;33m)\u001b[0m\u001b[1;33m:\u001b[0m\u001b[1;33m\u001b[0m\u001b[1;33m\u001b[0m\u001b[0m\n\u001b[0;32m   1329\u001b[0m         raise ValueError(\n\u001b[1;32m-> 1330\u001b[1;33m             \u001b[1;34mf\"The truth value of a {type(self).__name__} is ambiguous. \"\u001b[0m\u001b[1;33m\u001b[0m\u001b[1;33m\u001b[0m\u001b[0m\n\u001b[0m\u001b[0;32m   1331\u001b[0m             \u001b[1;34m\"Use a.empty, a.bool(), a.item(), a.any() or a.all().\"\u001b[0m\u001b[1;33m\u001b[0m\u001b[1;33m\u001b[0m\u001b[0m\n\u001b[0;32m   1332\u001b[0m         )\n",
      "\u001b[1;31mValueError\u001b[0m: The truth value of a Series is ambiguous. Use a.empty, a.bool(), a.item(), a.any() or a.all()."
     ]
    }
   ],
   "source": [
    "from datetime import date\n",
    " \n",
    "def numOfDays(date1, date2):\n",
    "    return (date2-date1).days\n",
    "print(new3.order_delivered_customer_date[0][:4])\n",
    "datex=new3.order_purchase_timestamp\n",
    "datey=new3.order_delivered_customer_date\n",
    "\n",
    "# Driver program\n",
    "for i in range(100):\n",
    "    if datey.isnull():\n",
    "        print(\"not delivered.\")\n",
    "        i+=1\n",
    "    else: \n",
    "        year1=datex[i][:4]\n",
    "        month1=datex[i][5:7]\n",
    "        day1=datex[i][8:10]\n",
    "        year2=datey[i][:4]\n",
    "        month2=datey[i][5:7]\n",
    "        day2=datey[i][8:10]\n",
    "        date1 =date(int(year1),int(month1),int(day1))\n",
    "        date2 =date(int(year2),int(month2),int(day2))\n",
    "        i+=1\n",
    "        print(numOfDays(date1, date2), \"days\")\n",
    "\n"
   ]
  },
  {
   "cell_type": "code",
   "execution_count": null,
   "metadata": {},
   "outputs": [],
   "source": []
  },
  {
   "cell_type": "code",
   "execution_count": null,
   "metadata": {},
   "outputs": [],
   "source": []
  }
 ],
 "metadata": {
  "kernelspec": {
   "display_name": "Python 3",
   "language": "python",
   "name": "python3"
  },
  "language_info": {
   "codemirror_mode": {
    "name": "ipython",
    "version": 3
   },
   "file_extension": ".py",
   "mimetype": "text/x-python",
   "name": "python",
   "nbconvert_exporter": "python",
   "pygments_lexer": "ipython3",
   "version": "3.7.3"
  }
 },
 "nbformat": 4,
 "nbformat_minor": 2
}
