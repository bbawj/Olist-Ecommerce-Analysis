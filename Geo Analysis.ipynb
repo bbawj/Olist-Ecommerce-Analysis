{
 "cells": [
  {
   "cell_type": "code",
   "execution_count": null,
   "metadata": {},
   "outputs": [],
   "source": [
    "# Importing necessary libraries\n",
    "import pandas as pd\n",
    "import numpy as np\n",
    "import matplotlib.pyplot as plt\n",
    "import seaborn as sb\n",
    "import math\n",
    "sb.set()\n",
    "import matplotlib.pyplot as plt\n",
    "from sklearn.decomposition import PCA\n",
    "from sklearn.model_selection import train_test_split, GridSearchCV\n",
    "from sklearn.metrics import precision_score, accuracy_score\n",
    "from sklearn.linear_model import LogisticRegression\n",
    "from sklearn.tree import DecisionTreeClassifier\n",
    "import matplotlib.pyplot as plt\n",
    "\n",
    "%matplotlib inline"
   ]
  },
  {
   "cell_type": "code",
   "execution_count": null,
   "metadata": {},
   "outputs": [],
   "source": [
    "clvdata = pd.read_csv(\"CLVsummary.csv\")\n",
    "clvdata.drop(columns = clvdata.columns[0], inplace = True)\n",
    "clvdata"
   ]
  },
  {
   "cell_type": "code",
   "execution_count": null,
   "metadata": {},
   "outputs": [],
   "source": [
    "geodata = pd.read_csv(\"olist_geolocation_dataset.csv\")\n",
    "geodata.rename(columns={\"geolocation_zip_code_prefix\": \"customer_zip_code_prefix\"}, inplace = True)\n",
    "geodata"
   ]
  },
  {
   "cell_type": "code",
   "execution_count": null,
   "metadata": {},
   "outputs": [],
   "source": [
    "customerdata = pd.read_csv(\"olist_customers_dataset.csv\")\n",
    "customerdata.drop(columns = 'customer_id', inplace = True)\n",
    "customerdata"
   ]
  },
  {
   "cell_type": "code",
   "execution_count": null,
   "metadata": {},
   "outputs": [],
   "source": [
    "new = pd.merge(customerdata, clvdata, on='customer_unique_id')\n",
    "new"
   ]
  },
  {
   "cell_type": "code",
   "execution_count": null,
   "metadata": {},
   "outputs": [],
   "source": [
    "len(new.customer_unique_id.unique())"
   ]
  },
  {
   "cell_type": "code",
   "execution_count": null,
   "metadata": {},
   "outputs": [],
   "source": [
    "new1 = new.drop_duplicates(subset=['customer_unique_id'])\n",
    "new1 = new1.sort_values(by = 'customer_unique_id')\n",
    "new1 = new1.reset_index()\n",
    "new1 = new1.drop(columns = 'index')\n",
    "new1"
   ]
  },
  {
   "cell_type": "code",
   "execution_count": null,
   "metadata": {},
   "outputs": [],
   "source": [
    "new2 = new1[['customer_unique_id','customer_zip_code_prefix','customer_city','customer_state','predicted_clv']]\n",
    "new2"
   ]
  },
  {
   "cell_type": "code",
   "execution_count": null,
   "metadata": {},
   "outputs": [],
   "source": [
    "new3 = pd.merge(geodata, new2, on='customer_zip_code_prefix')\n",
    "new3"
   ]
  },
  {
   "cell_type": "markdown",
   "metadata": {},
   "source": [
    "# Many duplicates as we are unable to derive customer's exact address. So we will just drop all the duplicates as the exact locations of each duplicate is quite near each other."
   ]
  },
  {
   "cell_type": "code",
   "execution_count": null,
   "metadata": {
    "scrolled": false
   },
   "outputs": [],
   "source": [
    "new4 = new3.drop_duplicates(subset=['customer_unique_id'])\n",
    "new4 = new4.sort_values(by = 'customer_unique_id')\n",
    "new4 = new4.reset_index()\n",
    "new4 = new4.drop(columns = 'index')\n",
    "new4"
   ]
  },
  {
   "cell_type": "markdown",
   "metadata": {},
   "source": [
    "# Loss of 7 entries from 2015 in new2 to 2008 in new4\n",
    "\n",
    "### Why?"
   ]
  },
  {
   "cell_type": "code",
   "execution_count": null,
   "metadata": {
    "scrolled": true
   },
   "outputs": [],
   "source": [
    "miss = list(set(new2['customer_unique_id'])-set(new4['customer_unique_id']))\n",
    "new2.loc[new2['customer_unique_id'] == miss[0]]"
   ]
  },
  {
   "cell_type": "code",
   "execution_count": null,
   "metadata": {
    "scrolled": true
   },
   "outputs": [],
   "source": [
    "geodata.loc[geodata['customer_zip_code_prefix'] == 72465]"
   ]
  },
  {
   "cell_type": "markdown",
   "metadata": {},
   "source": [
    "## The zipcodes do not exist in the geodata csv, so we will just ignore these entries\n"
   ]
  },
  {
   "cell_type": "markdown",
   "metadata": {},
   "source": [
    "# Now we have the locations of each customer as well as their corresponding CLV. \n",
    "\n",
    "# We can now find out which regions in Brazil generate more profit for Olist, so that Olist's marketing and sales team can concentrate on those areas"
   ]
  },
  {
   "cell_type": "code",
   "execution_count": null,
   "metadata": {},
   "outputs": [],
   "source": [
    "import geopandas as gpd\n",
    "from shapely.geometry import Point, Polygon\n",
    "import descartes\n",
    "from datashader.mpl_ext import dsshow, alpha_colormap\n",
    "import datashader as ds\n",
    "import datashader.transfer_functions as tf\n",
    "import matplotlib"
   ]
  },
  {
   "cell_type": "code",
   "execution_count": null,
   "metadata": {},
   "outputs": [],
   "source": [
    "geometry = [Point(xy) for xy in zip(new4.geolocation_lng, new4.geolocation_lat)]"
   ]
  },
  {
   "cell_type": "code",
   "execution_count": null,
   "metadata": {},
   "outputs": [],
   "source": [
    "new4['geometry'] = geometry"
   ]
  },
  {
   "cell_type": "code",
   "execution_count": null,
   "metadata": {},
   "outputs": [],
   "source": [
    "crs = {'init': 'epsg:4326'}\n",
    "customer_locs = gpd.GeoDataFrame(new4, crs=crs, geometry=geometry)"
   ]
  },
  {
   "cell_type": "code",
   "execution_count": null,
   "metadata": {},
   "outputs": [],
   "source": [
    "customer_locs[['geometry','geolocation_lat','geolocation_lng']].head(10)"
   ]
  },
  {
   "cell_type": "code",
   "execution_count": null,
   "metadata": {},
   "outputs": [],
   "source": [
    "brazilmap = gpd.read_file(\"./Brazil/bra_admbnda_adm1_ibge_2020.shp\")\n"
   ]
  },
  {
   "cell_type": "code",
   "execution_count": null,
   "metadata": {
    "scrolled": false
   },
   "outputs": [],
   "source": [
    "fig, ax = plt.subplots(figsize = (15,15))\n",
    "norm = matplotlib.colors.Normalize(vmin=math.log(customer_locs['predicted_clv'].min(),10), vmax=math.log(customer_locs['predicted_clv'].max()))\n",
    "brazilmap.plot(ax=ax, facecolor = 'black')\n",
    "plt.scatter(customer_locs['geolocation_lng'], \n",
    "            customer_locs['geolocation_lat'],\n",
    "            customer_locs['predicted_clv'],\n",
    "             norm=matplotlib.colors.LogNorm(vmin=customer_locs['predicted_clv'].min(), vmax=customer_locs['predicted_clv'].max()),\n",
    "            cmap='hot', c = customer_locs['predicted_clv'],\n",
    "            marker = 'o', alpha=1)\n",
    "fig, ax = plt.subplots(figsize = (15,1))\n",
    "cb1 = matplotlib.colorbar.ColorbarBase(ax, cmap=matplotlib.cm.hot, norm = norm,\n",
    "                                orientation='horizontal')"
   ]
  },
  {
   "cell_type": "code",
   "execution_count": null,
   "metadata": {
    "scrolled": false
   },
   "outputs": [],
   "source": [
    "fig, ax = plt.subplots(figsize = (15,15))\n",
    "norm = matplotlib.colors.Normalize(vmin=customer_locs['predicted_clv'].min(), vmax=customer_locs['predicted_clv'].max())\n",
    "brazilmap.plot(ax=ax, facecolor = 'black')\n",
    "customer_locs.geometry.plot(marker='o',\n",
    "                            c = customer_locs['predicted_clv'],\n",
    "                            cmap = 'hot', \n",
    "                            markersize=5, \n",
    "                            ax=ax)\n",
    "fig, ax = plt.subplots(figsize = (15,1))\n",
    "cb1 = matplotlib.colorbar.ColorbarBase(ax, cmap=matplotlib.cm.hot, norm = norm,\n",
    "                                orientation='horizontal')"
   ]
  },
  {
   "cell_type": "code",
   "execution_count": null,
   "metadata": {},
   "outputs": [],
   "source": []
  }
 ],
 "metadata": {
  "kernelspec": {
   "display_name": "Python 3",
   "language": "python",
   "name": "python3"
  },
  "language_info": {
   "codemirror_mode": {
    "name": "ipython",
    "version": 3
   },
   "file_extension": ".py",
   "mimetype": "text/x-python",
   "name": "python",
   "nbconvert_exporter": "python",
   "pygments_lexer": "ipython3",
   "version": "3.8.3"
  }
 },
 "nbformat": 4,
 "nbformat_minor": 4
}
