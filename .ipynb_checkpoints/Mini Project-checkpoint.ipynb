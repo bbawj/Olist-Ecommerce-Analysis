{
 "cells": [
  {
   "cell_type": "code",
   "execution_count": 2,
   "metadata": {},
   "outputs": [],
   "source": [
    "# Basic Libraries\n",
    "import numpy as np\n",
    "import pandas as pd\n",
    "import seaborn as sb\n",
    "import matplotlib.pyplot as plt # we only need pyplot\n",
    "from sklearn.linear_model import LinearRegression\n",
    "from sklearn.model_selection import train_test_split\n",
    "from sklearn.metrics import mean_squared_error\n",
    "from sklearn.tree import DecisionTreeClassifier\n",
    "from sklearn.model_selection import train_test_split\n",
    "from sklearn.tree import plot_tree\n",
    "from sklearn.metrics import confusion_matrix\n",
    "from IPython.display import display\n",
    "sb.set() # set the default Seaborn style for graphics"
   ]
  },
  {
   "cell_type": "code",
   "execution_count": 4,
   "metadata": {},
   "outputs": [
    {
     "name": "stdout",
     "output_type": "stream",
     "text": [
      "<class 'pandas.core.frame.DataFrame'>\n",
      "Int64Index: 192761 entries, 0 to 192760\n",
      "Data columns (total 34 columns):\n",
      " #   Column                         Non-Null Count   Dtype  \n",
      "---  ------                         --------------   -----  \n",
      " 0   order_id                       192761 non-null  object \n",
      " 1   order_item_id                  192761 non-null  int64  \n",
      " 2   product_id                     192761 non-null  object \n",
      " 3   seller_id                      192761 non-null  object \n",
      " 4   shipping_limit_date            192761 non-null  object \n",
      " 5   price                          192761 non-null  float64\n",
      " 6   freight_value                  192761 non-null  float64\n",
      " 7   payment_sequential             192761 non-null  int64  \n",
      " 8   payment_type                   192761 non-null  object \n",
      " 9   payment_installments           192761 non-null  int64  \n",
      " 10  payment_value                  192761 non-null  float64\n",
      " 11  review_id                      192761 non-null  object \n",
      " 12  review_score                   192761 non-null  int64  \n",
      " 13  review_comment_title           21879 non-null   object \n",
      " 14  review_comment_message         83285 non-null   object \n",
      " 15  review_creation_date           192761 non-null  object \n",
      " 16  review_answer_timestamp        192761 non-null  object \n",
      " 17  customer_id                    192761 non-null  object \n",
      " 18  order_status                   192761 non-null  object \n",
      " 19  order_purchase_timestamp       192761 non-null  object \n",
      " 20  order_approved_at              192744 non-null  object \n",
      " 21  order_delivered_carrier_date   192760 non-null  object \n",
      " 22  order_delivered_customer_date  192761 non-null  object \n",
      " 23  order_estimated_delivery_date  192761 non-null  object \n",
      " 24  delivery_time                  192760 non-null  float64\n",
      " 25  product_category_name          190028 non-null  object \n",
      " 26  product_name_lenght            190028 non-null  float64\n",
      " 27  product_description_lenght     190028 non-null  float64\n",
      " 28  product_photos_qty             190028 non-null  float64\n",
      " 29  product_weight_g               192731 non-null  float64\n",
      " 30  product_length_cm              192731 non-null  float64\n",
      " 31  product_height_cm              192731 non-null  float64\n",
      " 32  product_width_cm               192731 non-null  float64\n",
      " 33  review_response_days           147047 non-null  float64\n",
      "dtypes: float64(12), int64(4), object(18)\n",
      "memory usage: 51.5+ MB\n"
     ]
    }
   ],
   "source": [
    "finaldata = pd.read_pickle(\"finaldata.pkl\")\n",
    "finaldata.info()"
   ]
  }
 ],
 "metadata": {
  "kernelspec": {
   "display_name": "Python 3",
   "language": "python",
   "name": "python3"
  },
  "language_info": {
   "codemirror_mode": {
    "name": "ipython",
    "version": 3
   },
   "file_extension": ".py",
   "mimetype": "text/x-python",
   "name": "python",
   "nbconvert_exporter": "python",
   "pygments_lexer": "ipython3",
   "version": "3.8.3"
  }
 },
 "nbformat": 4,
 "nbformat_minor": 4
}
