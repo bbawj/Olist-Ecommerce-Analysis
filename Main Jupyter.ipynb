{
 "cells": [
  {
   "cell_type": "code",
   "execution_count": 2,
   "metadata": {},
   "outputs": [],
   "source": [
    "# Basic Libraries\n",
    "import numpy as np\n",
    "import pandas as pd\n",
    "import seaborn as sb\n",
    "import matplotlib.pyplot as plt # we only need pyplot\n",
    "from sklearn.linear_model import LinearRegression\n",
    "from sklearn.model_selection import train_test_split\n",
    "from sklearn.metrics import mean_squared_error\n",
    "from sklearn.tree import DecisionTreeClassifier\n",
    "from sklearn.model_selection import train_test_split\n",
    "from sklearn.tree import plot_tree\n",
    "from sklearn.metrics import confusion_matrix\n",
    "from IPython.display import display\n",
    "sb.set() # set the default Seaborn style for graphics"
   ]
  },
  {
   "cell_type": "markdown",
   "metadata": {},
   "source": [
    "# PROBLEM STATEMENT:"
   ]
  },
  {
   "cell_type": "markdown",
   "metadata": {},
   "source": [
    "# Most important variable in retaining high Customer Life Value (CLV) customers"
   ]
  },
  {
   "cell_type": "markdown",
   "metadata": {},
   "source": [
    "## Importing Datasets"
   ]
  },
  {
   "cell_type": "code",
   "execution_count": 3,
   "metadata": {},
   "outputs": [],
   "source": [
    "customerdata = pd.read_csv(\"olist_customers_dataset.csv\")\n",
    "orderitems = pd.read_csv(\"olist_order_items_dataset.csv\")\n",
    "orderpayments = pd.read_csv(\"olist_order_payments_dataset.csv\")\n",
    "orderreviews = pd.read_csv(\"olist_order_reviews_dataset.csv\")\n",
    "orders = pd.read_csv(\"olist_orders_dataset.csv\")\n",
    "products = pd.read_csv(\"olist_products_dataset.csv\")\n",
    "translation = pd.read_csv(\"product_category_name_translation.csv\")\n",
    "datasetlist = [orderitems,orderpayments,orderreviews,orders,products,translation]"
   ]
  },
  {
   "cell_type": "markdown",
   "metadata": {},
   "source": [
    "## Basic Data Exploration"
   ]
  },
  {
   "cell_type": "code",
   "execution_count": 4,
   "metadata": {
    "scrolled": true
   },
   "outputs": [
    {
     "name": "stdout",
     "output_type": "stream",
     "text": [
      "<class 'pandas.core.frame.DataFrame'>\n",
      "RangeIndex: 112650 entries, 0 to 112649\n",
      "Data columns (total 7 columns):\n",
      " #   Column               Non-Null Count   Dtype  \n",
      "---  ------               --------------   -----  \n",
      " 0   order_id             112650 non-null  object \n",
      " 1   order_item_id        112650 non-null  int64  \n",
      " 2   product_id           112650 non-null  object \n",
      " 3   seller_id            112650 non-null  object \n",
      " 4   shipping_limit_date  112650 non-null  object \n",
      " 5   price                112650 non-null  float64\n",
      " 6   freight_value        112650 non-null  float64\n",
      "dtypes: float64(2), int64(1), object(4)\n",
      "memory usage: 6.0+ MB\n",
      "<class 'pandas.core.frame.DataFrame'>\n",
      "RangeIndex: 103886 entries, 0 to 103885\n",
      "Data columns (total 5 columns):\n",
      " #   Column                Non-Null Count   Dtype  \n",
      "---  ------                --------------   -----  \n",
      " 0   order_id              103886 non-null  object \n",
      " 1   payment_sequential    103886 non-null  int64  \n",
      " 2   payment_type          103886 non-null  object \n",
      " 3   payment_installments  103886 non-null  int64  \n",
      " 4   payment_value         103886 non-null  float64\n",
      "dtypes: float64(1), int64(2), object(2)\n",
      "memory usage: 4.0+ MB\n",
      "<class 'pandas.core.frame.DataFrame'>\n",
      "RangeIndex: 100000 entries, 0 to 99999\n",
      "Data columns (total 7 columns):\n",
      " #   Column                   Non-Null Count   Dtype \n",
      "---  ------                   --------------   ----- \n",
      " 0   review_id                100000 non-null  object\n",
      " 1   order_id                 100000 non-null  object\n",
      " 2   review_score             100000 non-null  int64 \n",
      " 3   review_comment_title     11715 non-null   object\n",
      " 4   review_comment_message   41753 non-null   object\n",
      " 5   review_creation_date     100000 non-null  object\n",
      " 6   review_answer_timestamp  100000 non-null  object\n",
      "dtypes: int64(1), object(6)\n",
      "memory usage: 5.3+ MB\n",
      "<class 'pandas.core.frame.DataFrame'>\n",
      "RangeIndex: 99441 entries, 0 to 99440\n",
      "Data columns (total 8 columns):\n",
      " #   Column                         Non-Null Count  Dtype \n",
      "---  ------                         --------------  ----- \n",
      " 0   order_id                       99441 non-null  object\n",
      " 1   customer_id                    99441 non-null  object\n",
      " 2   order_status                   99441 non-null  object\n",
      " 3   order_purchase_timestamp       99441 non-null  object\n",
      " 4   order_approved_at              99281 non-null  object\n",
      " 5   order_delivered_carrier_date   97658 non-null  object\n",
      " 6   order_delivered_customer_date  96476 non-null  object\n",
      " 7   order_estimated_delivery_date  99441 non-null  object\n",
      "dtypes: object(8)\n",
      "memory usage: 6.1+ MB\n",
      "<class 'pandas.core.frame.DataFrame'>\n",
      "RangeIndex: 32951 entries, 0 to 32950\n",
      "Data columns (total 9 columns):\n",
      " #   Column                      Non-Null Count  Dtype  \n",
      "---  ------                      --------------  -----  \n",
      " 0   product_id                  32951 non-null  object \n",
      " 1   product_category_name       32341 non-null  object \n",
      " 2   product_name_lenght         32341 non-null  float64\n",
      " 3   product_description_lenght  32341 non-null  float64\n",
      " 4   product_photos_qty          32341 non-null  float64\n",
      " 5   product_weight_g            32949 non-null  float64\n",
      " 6   product_length_cm           32949 non-null  float64\n",
      " 7   product_height_cm           32949 non-null  float64\n",
      " 8   product_width_cm            32949 non-null  float64\n",
      "dtypes: float64(7), object(2)\n",
      "memory usage: 2.3+ MB\n",
      "<class 'pandas.core.frame.DataFrame'>\n",
      "RangeIndex: 71 entries, 0 to 70\n",
      "Data columns (total 2 columns):\n",
      " #   Column                         Non-Null Count  Dtype \n",
      "---  ------                         --------------  ----- \n",
      " 0   product_category_name          71 non-null     object\n",
      " 1   product_category_name_english  71 non-null     object\n",
      "dtypes: object(2)\n",
      "memory usage: 1.2+ KB\n"
     ]
    }
   ],
   "source": [
    "for x in datasetlist:\n",
    "    x.info()"
   ]
  },
  {
   "cell_type": "markdown",
   "metadata": {},
   "source": [
    "## Checking for Discrepancies"
   ]
  },
  {
   "cell_type": "code",
   "execution_count": 5,
   "metadata": {},
   "outputs": [
    {
     "name": "stdout",
     "output_type": "stream",
     "text": [
      "98666\n",
      "99441\n",
      "99440\n",
      "99441\n"
     ]
    }
   ],
   "source": [
    "print(len(orderitems.order_id.unique()))\n",
    "print(len(orders.order_id.unique()))\n",
    "print(len(orderpayments.order_id.unique()))\n",
    "print(len(orderreviews.order_id.unique()))"
   ]
  },
  {
   "cell_type": "markdown",
   "metadata": {},
   "source": [
    "### Missing values of order_id found between the datasets. Filter out the missing values and find out the reason why they are dropped between datasets. "
   ]
  },
  {
   "cell_type": "code",
   "execution_count": 6,
   "metadata": {},
   "outputs": [
    {
     "name": "stdout",
     "output_type": "stream",
     "text": [
      "<class 'pandas.core.frame.DataFrame'>\n",
      "Int64Index: 775 entries, 266 to 99415\n",
      "Data columns (total 8 columns):\n",
      " #   Column                         Non-Null Count  Dtype \n",
      "---  ------                         --------------  ----- \n",
      " 0   order_id                       775 non-null    object\n",
      " 1   customer_id                    775 non-null    object\n",
      " 2   order_status                   775 non-null    object\n",
      " 3   order_purchase_timestamp       775 non-null    object\n",
      " 4   order_approved_at              629 non-null    object\n",
      " 5   order_delivered_carrier_date   1 non-null      object\n",
      " 6   order_delivered_customer_date  0 non-null      object\n",
      " 7   order_estimated_delivery_date  775 non-null    object\n",
      "dtypes: object(8)\n",
      "memory usage: 54.5+ KB\n"
     ]
    },
    {
     "data": {
      "text/html": [
       "<div>\n",
       "<style scoped>\n",
       "    .dataframe tbody tr th:only-of-type {\n",
       "        vertical-align: middle;\n",
       "    }\n",
       "\n",
       "    .dataframe tbody tr th {\n",
       "        vertical-align: top;\n",
       "    }\n",
       "\n",
       "    .dataframe thead th {\n",
       "        text-align: right;\n",
       "    }\n",
       "</style>\n",
       "<table border=\"1\" class=\"dataframe\">\n",
       "  <thead>\n",
       "    <tr style=\"text-align: right;\">\n",
       "      <th></th>\n",
       "      <th>order_id</th>\n",
       "      <th>customer_id</th>\n",
       "      <th>order_status</th>\n",
       "      <th>order_purchase_timestamp</th>\n",
       "      <th>order_approved_at</th>\n",
       "      <th>order_delivered_carrier_date</th>\n",
       "      <th>order_delivered_customer_date</th>\n",
       "      <th>order_estimated_delivery_date</th>\n",
       "    </tr>\n",
       "  </thead>\n",
       "  <tbody>\n",
       "    <tr>\n",
       "      <th>266</th>\n",
       "      <td>8e24261a7e58791d10cb1bf9da94df5c</td>\n",
       "      <td>64a254d30eed42cd0e6c36dddb88adf0</td>\n",
       "      <td>unavailable</td>\n",
       "      <td>2017-11-16 15:09:28</td>\n",
       "      <td>2017-11-16 15:26:57</td>\n",
       "      <td>NaN</td>\n",
       "      <td>NaN</td>\n",
       "      <td>2017-12-05 00:00:00</td>\n",
       "    </tr>\n",
       "    <tr>\n",
       "      <th>586</th>\n",
       "      <td>c272bcd21c287498b4883c7512019702</td>\n",
       "      <td>9582c5bbecc65eb568e2c1d839b5cba1</td>\n",
       "      <td>unavailable</td>\n",
       "      <td>2018-01-31 11:31:37</td>\n",
       "      <td>2018-01-31 14:23:50</td>\n",
       "      <td>NaN</td>\n",
       "      <td>NaN</td>\n",
       "      <td>2018-02-16 00:00:00</td>\n",
       "    </tr>\n",
       "    <tr>\n",
       "      <th>687</th>\n",
       "      <td>37553832a3a89c9b2db59701c357ca67</td>\n",
       "      <td>7607cd563696c27ede287e515812d528</td>\n",
       "      <td>unavailable</td>\n",
       "      <td>2017-08-14 17:38:02</td>\n",
       "      <td>2017-08-17 00:15:18</td>\n",
       "      <td>NaN</td>\n",
       "      <td>NaN</td>\n",
       "      <td>2017-09-05 00:00:00</td>\n",
       "    </tr>\n",
       "    <tr>\n",
       "      <th>737</th>\n",
       "      <td>d57e15fb07fd180f06ab3926b39edcd2</td>\n",
       "      <td>470b93b3f1cde85550fc74cd3a476c78</td>\n",
       "      <td>unavailable</td>\n",
       "      <td>2018-01-08 19:39:03</td>\n",
       "      <td>2018-01-09 07:26:08</td>\n",
       "      <td>NaN</td>\n",
       "      <td>NaN</td>\n",
       "      <td>2018-02-06 00:00:00</td>\n",
       "    </tr>\n",
       "    <tr>\n",
       "      <th>1130</th>\n",
       "      <td>00b1cb0320190ca0daa2c88b35206009</td>\n",
       "      <td>3532ba38a3fd242259a514ac2b6ae6b6</td>\n",
       "      <td>canceled</td>\n",
       "      <td>2018-08-28 15:26:39</td>\n",
       "      <td>NaN</td>\n",
       "      <td>NaN</td>\n",
       "      <td>NaN</td>\n",
       "      <td>2018-09-12 00:00:00</td>\n",
       "    </tr>\n",
       "    <tr>\n",
       "      <th>...</th>\n",
       "      <td>...</td>\n",
       "      <td>...</td>\n",
       "      <td>...</td>\n",
       "      <td>...</td>\n",
       "      <td>...</td>\n",
       "      <td>...</td>\n",
       "      <td>...</td>\n",
       "      <td>...</td>\n",
       "    </tr>\n",
       "    <tr>\n",
       "      <th>99252</th>\n",
       "      <td>aaab15da689073f8f9aa978a390a69d1</td>\n",
       "      <td>df20748206e4b865b2f14a5eabbfcf34</td>\n",
       "      <td>unavailable</td>\n",
       "      <td>2018-01-16 14:27:59</td>\n",
       "      <td>2018-01-17 03:37:34</td>\n",
       "      <td>NaN</td>\n",
       "      <td>NaN</td>\n",
       "      <td>2018-02-06 00:00:00</td>\n",
       "    </tr>\n",
       "    <tr>\n",
       "      <th>99283</th>\n",
       "      <td>3a3cddda5a7c27851bd96c3313412840</td>\n",
       "      <td>0b0d6095c5555fe083844281f6b093bb</td>\n",
       "      <td>canceled</td>\n",
       "      <td>2018-08-31 16:13:44</td>\n",
       "      <td>NaN</td>\n",
       "      <td>NaN</td>\n",
       "      <td>NaN</td>\n",
       "      <td>2018-10-01 00:00:00</td>\n",
       "    </tr>\n",
       "    <tr>\n",
       "      <th>99347</th>\n",
       "      <td>a89abace0dcc01eeb267a9660b5ac126</td>\n",
       "      <td>2f0524a7b1b3845a1a57fcf3910c4333</td>\n",
       "      <td>canceled</td>\n",
       "      <td>2018-09-06 18:45:47</td>\n",
       "      <td>NaN</td>\n",
       "      <td>NaN</td>\n",
       "      <td>NaN</td>\n",
       "      <td>2018-09-27 00:00:00</td>\n",
       "    </tr>\n",
       "    <tr>\n",
       "      <th>99348</th>\n",
       "      <td>a69ba794cc7deb415c3e15a0a3877e69</td>\n",
       "      <td>726f0894b5becdf952ea537d5266e543</td>\n",
       "      <td>unavailable</td>\n",
       "      <td>2017-08-23 16:28:04</td>\n",
       "      <td>2017-08-28 15:44:47</td>\n",
       "      <td>NaN</td>\n",
       "      <td>NaN</td>\n",
       "      <td>2017-09-15 00:00:00</td>\n",
       "    </tr>\n",
       "    <tr>\n",
       "      <th>99415</th>\n",
       "      <td>5fabc81b6322c8443648e1b21a6fef21</td>\n",
       "      <td>32c9df889d41b0ee8309a5efb6855dcb</td>\n",
       "      <td>unavailable</td>\n",
       "      <td>2017-10-10 10:50:03</td>\n",
       "      <td>2017-10-14 18:35:57</td>\n",
       "      <td>NaN</td>\n",
       "      <td>NaN</td>\n",
       "      <td>2017-10-23 00:00:00</td>\n",
       "    </tr>\n",
       "  </tbody>\n",
       "</table>\n",
       "<p>775 rows × 8 columns</p>\n",
       "</div>"
      ],
      "text/plain": [
       "                               order_id                       customer_id  \\\n",
       "266    8e24261a7e58791d10cb1bf9da94df5c  64a254d30eed42cd0e6c36dddb88adf0   \n",
       "586    c272bcd21c287498b4883c7512019702  9582c5bbecc65eb568e2c1d839b5cba1   \n",
       "687    37553832a3a89c9b2db59701c357ca67  7607cd563696c27ede287e515812d528   \n",
       "737    d57e15fb07fd180f06ab3926b39edcd2  470b93b3f1cde85550fc74cd3a476c78   \n",
       "1130   00b1cb0320190ca0daa2c88b35206009  3532ba38a3fd242259a514ac2b6ae6b6   \n",
       "...                                 ...                               ...   \n",
       "99252  aaab15da689073f8f9aa978a390a69d1  df20748206e4b865b2f14a5eabbfcf34   \n",
       "99283  3a3cddda5a7c27851bd96c3313412840  0b0d6095c5555fe083844281f6b093bb   \n",
       "99347  a89abace0dcc01eeb267a9660b5ac126  2f0524a7b1b3845a1a57fcf3910c4333   \n",
       "99348  a69ba794cc7deb415c3e15a0a3877e69  726f0894b5becdf952ea537d5266e543   \n",
       "99415  5fabc81b6322c8443648e1b21a6fef21  32c9df889d41b0ee8309a5efb6855dcb   \n",
       "\n",
       "      order_status order_purchase_timestamp    order_approved_at  \\\n",
       "266    unavailable      2017-11-16 15:09:28  2017-11-16 15:26:57   \n",
       "586    unavailable      2018-01-31 11:31:37  2018-01-31 14:23:50   \n",
       "687    unavailable      2017-08-14 17:38:02  2017-08-17 00:15:18   \n",
       "737    unavailable      2018-01-08 19:39:03  2018-01-09 07:26:08   \n",
       "1130      canceled      2018-08-28 15:26:39                  NaN   \n",
       "...            ...                      ...                  ...   \n",
       "99252  unavailable      2018-01-16 14:27:59  2018-01-17 03:37:34   \n",
       "99283     canceled      2018-08-31 16:13:44                  NaN   \n",
       "99347     canceled      2018-09-06 18:45:47                  NaN   \n",
       "99348  unavailable      2017-08-23 16:28:04  2017-08-28 15:44:47   \n",
       "99415  unavailable      2017-10-10 10:50:03  2017-10-14 18:35:57   \n",
       "\n",
       "      order_delivered_carrier_date order_delivered_customer_date  \\\n",
       "266                            NaN                           NaN   \n",
       "586                            NaN                           NaN   \n",
       "687                            NaN                           NaN   \n",
       "737                            NaN                           NaN   \n",
       "1130                           NaN                           NaN   \n",
       "...                            ...                           ...   \n",
       "99252                          NaN                           NaN   \n",
       "99283                          NaN                           NaN   \n",
       "99347                          NaN                           NaN   \n",
       "99348                          NaN                           NaN   \n",
       "99415                          NaN                           NaN   \n",
       "\n",
       "      order_estimated_delivery_date  \n",
       "266             2017-12-05 00:00:00  \n",
       "586             2018-02-16 00:00:00  \n",
       "687             2017-09-05 00:00:00  \n",
       "737             2018-02-06 00:00:00  \n",
       "1130            2018-09-12 00:00:00  \n",
       "...                             ...  \n",
       "99252           2018-02-06 00:00:00  \n",
       "99283           2018-10-01 00:00:00  \n",
       "99347           2018-09-27 00:00:00  \n",
       "99348           2017-09-15 00:00:00  \n",
       "99415           2017-10-23 00:00:00  \n",
       "\n",
       "[775 rows x 8 columns]"
      ]
     },
     "execution_count": 6,
     "metadata": {},
     "output_type": "execute_result"
    }
   ],
   "source": [
    "#Finding list of missing order_id\n",
    "missinglist = []\n",
    "testset = set(orderitems.order_id)\n",
    "for x in orders.order_id:\n",
    "    if x in testset:\n",
    "        continue\n",
    "    else:\n",
    "        missinglist.append(x)\n",
    "        \n",
    "\n",
    "#Extracting missing data from orders dataset\n",
    "missingdf = pd.DataFrame\n",
    "missingdf = orders[orders['order_id'].isin(missinglist)]\n",
    "missingdf.info()\n",
    "missingdf"
   ]
  },
  {
   "cell_type": "markdown",
   "metadata": {},
   "source": [
    "### Missing order_ids found to be cancelled / unsuccessful orders. As such, we will drop these orders from all datasets."
   ]
  },
  {
   "cell_type": "code",
   "execution_count": 7,
   "metadata": {
    "scrolled": true
   },
   "outputs": [
    {
     "name": "stdout",
     "output_type": "stream",
     "text": [
      "98666\n",
      "98666\n",
      "98665\n",
      "98666\n"
     ]
    }
   ],
   "source": [
    "neworders = orders[~orders.order_id.isin(missinglist)]\n",
    "neworderpayments = orderpayments[~orderpayments.order_id.isin(missinglist)]\n",
    "neworderreviews = orderreviews[~orderreviews.order_id.isin(missinglist)]\n",
    "\n",
    "print(len(orderitems.order_id.unique()))\n",
    "print(len(neworders.order_id.unique()))\n",
    "print(len(neworderpayments.order_id.unique()))\n",
    "print(len(neworderreviews.order_id.unique()))"
   ]
  },
  {
   "cell_type": "markdown",
   "metadata": {},
   "source": [
    "### There is still one missing value in order payments. Let's find out"
   ]
  },
  {
   "cell_type": "code",
   "execution_count": 8,
   "metadata": {},
   "outputs": [
    {
     "data": {
      "text/html": [
       "<div>\n",
       "<style scoped>\n",
       "    .dataframe tbody tr th:only-of-type {\n",
       "        vertical-align: middle;\n",
       "    }\n",
       "\n",
       "    .dataframe tbody tr th {\n",
       "        vertical-align: top;\n",
       "    }\n",
       "\n",
       "    .dataframe thead th {\n",
       "        text-align: right;\n",
       "    }\n",
       "</style>\n",
       "<table border=\"1\" class=\"dataframe\">\n",
       "  <thead>\n",
       "    <tr style=\"text-align: right;\">\n",
       "      <th></th>\n",
       "      <th>review_id</th>\n",
       "      <th>order_id</th>\n",
       "      <th>review_score</th>\n",
       "      <th>review_comment_title</th>\n",
       "      <th>review_comment_message</th>\n",
       "      <th>review_creation_date</th>\n",
       "      <th>review_answer_timestamp</th>\n",
       "    </tr>\n",
       "  </thead>\n",
       "  <tbody>\n",
       "    <tr>\n",
       "      <th>37828</th>\n",
       "      <td>6916ca4502d6d3bfd39818759d55d536</td>\n",
       "      <td>bfbd0f9bdef84302105ad712db648a6c</td>\n",
       "      <td>1</td>\n",
       "      <td>NaN</td>\n",
       "      <td>nao recebi o produto e nem resposta da empresa</td>\n",
       "      <td>2016-10-06 00:00:00</td>\n",
       "      <td>2016-10-07 18:32:28</td>\n",
       "    </tr>\n",
       "  </tbody>\n",
       "</table>\n",
       "</div>"
      ],
      "text/plain": [
       "                              review_id                          order_id  \\\n",
       "37828  6916ca4502d6d3bfd39818759d55d536  bfbd0f9bdef84302105ad712db648a6c   \n",
       "\n",
       "       review_score review_comment_title  \\\n",
       "37828             1                  NaN   \n",
       "\n",
       "                               review_comment_message review_creation_date  \\\n",
       "37828  nao recebi o produto e nem resposta da empresa  2016-10-06 00:00:00   \n",
       "\n",
       "      review_answer_timestamp  \n",
       "37828     2016-10-07 18:32:28  "
      ]
     },
     "execution_count": 8,
     "metadata": {},
     "output_type": "execute_result"
    }
   ],
   "source": [
    "missinglist = []\n",
    "testset = set(neworderpayments.order_id)\n",
    "for x in orderitems.order_id:\n",
    "    if x in testset:\n",
    "        continue\n",
    "    else:\n",
    "        missinglist.append(x)\n",
    "\n",
    "#Extracting missing data from orders dataset\n",
    "missingdf = pd.DataFrame\n",
    "missingdf = neworderreviews[neworderreviews['order_id'].isin(missinglist)]\n",
    "missingdf"
   ]
  },
  {
   "cell_type": "markdown",
   "metadata": {},
   "source": [
    "##### \"nao recebi o produto e nem resposta da empresa\" =  I did not receive the product and no response from the company\n",
    "##### So we will drop this order_id as well"
   ]
  },
  {
   "cell_type": "markdown",
   "metadata": {},
   "source": [
    "##### Seems to have some missing values in delivery date under orders dataset as well"
   ]
  },
  {
   "cell_type": "code",
   "execution_count": 9,
   "metadata": {
    "scrolled": true
   },
   "outputs": [
    {
     "name": "stdout",
     "output_type": "stream",
     "text": [
      "<class 'pandas.core.frame.DataFrame'>\n",
      "RangeIndex: 99441 entries, 0 to 99440\n",
      "Data columns (total 8 columns):\n",
      " #   Column                         Non-Null Count  Dtype \n",
      "---  ------                         --------------  ----- \n",
      " 0   order_id                       99441 non-null  object\n",
      " 1   customer_id                    99441 non-null  object\n",
      " 2   order_status                   99441 non-null  object\n",
      " 3   order_purchase_timestamp       99441 non-null  object\n",
      " 4   order_approved_at              99281 non-null  object\n",
      " 5   order_delivered_carrier_date   97658 non-null  object\n",
      " 6   order_delivered_customer_date  96476 non-null  object\n",
      " 7   order_estimated_delivery_date  99441 non-null  object\n",
      "dtypes: object(8)\n",
      "memory usage: 6.1+ MB\n"
     ]
    }
   ],
   "source": [
    "orders.info()"
   ]
  },
  {
   "cell_type": "markdown",
   "metadata": {},
   "source": [
    "#### Presence of NA values in column 5 and 6. As such, we will drop those too."
   ]
  },
  {
   "cell_type": "code",
   "execution_count": 10,
   "metadata": {},
   "outputs": [
    {
     "data": {
      "text/plain": [
       "2966"
      ]
     },
     "execution_count": 10,
     "metadata": {},
     "output_type": "execute_result"
    }
   ],
   "source": [
    "x = orders[orders['order_delivered_customer_date'].isna()]\n",
    "a = x.order_id.tolist()\n",
    "y = orders[orders['order_delivered_carrier_date'].isna()]\n",
    "b = x.order_id.tolist()\n",
    "z = orders[orders['order_approved_at'].isna()]\n",
    "c = x.order_id.tolist()\n",
    "d = a+b+c+missinglist\n",
    "miss = set(d)\n",
    "len(miss)"
   ]
  },
  {
   "cell_type": "code",
   "execution_count": 11,
   "metadata": {},
   "outputs": [
    {
     "name": "stdout",
     "output_type": "stream",
     "text": [
      "96475\n",
      "96475\n",
      "96475\n",
      "96475\n"
     ]
    },
    {
     "data": {
      "text/html": [
       "<div>\n",
       "<style scoped>\n",
       "    .dataframe tbody tr th:only-of-type {\n",
       "        vertical-align: middle;\n",
       "    }\n",
       "\n",
       "    .dataframe tbody tr th {\n",
       "        vertical-align: top;\n",
       "    }\n",
       "\n",
       "    .dataframe thead th {\n",
       "        text-align: right;\n",
       "    }\n",
       "</style>\n",
       "<table border=\"1\" class=\"dataframe\">\n",
       "  <thead>\n",
       "    <tr style=\"text-align: right;\">\n",
       "      <th></th>\n",
       "      <th>order_id</th>\n",
       "      <th>customer_id</th>\n",
       "      <th>order_status</th>\n",
       "      <th>order_purchase_timestamp</th>\n",
       "      <th>order_approved_at</th>\n",
       "      <th>order_delivered_carrier_date</th>\n",
       "      <th>order_delivered_customer_date</th>\n",
       "      <th>order_estimated_delivery_date</th>\n",
       "    </tr>\n",
       "  </thead>\n",
       "  <tbody>\n",
       "  </tbody>\n",
       "</table>\n",
       "</div>"
      ],
      "text/plain": [
       "Empty DataFrame\n",
       "Columns: [order_id, customer_id, order_status, order_purchase_timestamp, order_approved_at, order_delivered_carrier_date, order_delivered_customer_date, order_estimated_delivery_date]\n",
       "Index: []"
      ]
     },
     "execution_count": 11,
     "metadata": {},
     "output_type": "execute_result"
    }
   ],
   "source": [
    "newerorders = neworders[~neworders.order_id.isin(miss)]\n",
    "newerorderpayments = neworderpayments[~neworderpayments.order_id.isin(miss)]\n",
    "newerorderreviews = neworderreviews[~neworderreviews.order_id.isin(miss)]\n",
    "newerorderitems = orderitems[~orderitems.order_id.isin(miss)]\n",
    "\n",
    "print(len(newerorderitems.order_id.unique()))\n",
    "print(len(newerorders.order_id.unique()))\n",
    "print(len(newerorderpayments.order_id.unique()))\n",
    "print(len(newerorderreviews.order_id.unique()))\n",
    "\n",
    "newerorders[newerorders[\"order_delivered_customer_date\"].isna()]"
   ]
  },
  {
   "cell_type": "markdown",
   "metadata": {},
   "source": [
    "## Here we will create a new column \"delivery_time\" based on the order date and delivery date. We will use this variable in our decision tree later"
   ]
  },
  {
   "cell_type": "code",
   "execution_count": 12,
   "metadata": {},
   "outputs": [],
   "source": [
    "from datetime import date\n",
    " \n",
    "def numOfDays(date1, date2):\n",
    "    return (date2-date1).days\n",
    "\n",
    "datexy = newerorders[[\"order_id\",\"order_purchase_timestamp\",\"order_delivered_customer_date\"]]\n",
    "datexy.reset_index(inplace=True)\n",
    "datex=newerorders.order_purchase_timestamp\n",
    "datey=newerorders.order_delivered_customer_date\n"
   ]
  },
  {
   "cell_type": "code",
   "execution_count": 13,
   "metadata": {},
   "outputs": [
    {
     "name": "stderr",
     "output_type": "stream",
     "text": [
      "<ipython-input-13-5ba6dad57ea9>:2: SettingWithCopyWarning: \n",
      "A value is trying to be set on a copy of a slice from a DataFrame.\n",
      "Try using .loc[row_indexer,col_indexer] = value instead\n",
      "\n",
      "See the caveats in the documentation: https://pandas.pydata.org/pandas-docs/stable/user_guide/indexing.html#returning-a-view-versus-a-copy\n",
      "  datexy['delivery_time'] = np.nan\n",
      "C:\\Users\\bawj\\anaconda3\\lib\\site-packages\\pandas\\core\\indexing.py:1765: SettingWithCopyWarning: \n",
      "A value is trying to be set on a copy of a slice from a DataFrame.\n",
      "Try using .loc[row_indexer,col_indexer] = value instead\n",
      "\n",
      "See the caveats in the documentation: https://pandas.pydata.org/pandas-docs/stable/user_guide/indexing.html#returning-a-view-versus-a-copy\n",
      "  isetter(loc, value)\n"
     ]
    }
   ],
   "source": [
    "delivery_days = []\n",
    "datexy['delivery_time'] = np.nan\n",
    "for x in range(96475):\n",
    "    year1=datexy.loc[x][\"order_purchase_timestamp\"][:4]\n",
    "    month1=datexy.loc[x][\"order_purchase_timestamp\"][5:7]\n",
    "    day1=datexy.loc[x][\"order_purchase_timestamp\"][8:10]\n",
    "    year2=datexy.loc[x][\"order_delivered_customer_date\"][:4]\n",
    "    month2=datexy.loc[x][\"order_delivered_customer_date\"][5:7]\n",
    "    day2=datexy.loc[x][\"order_delivered_customer_date\"][8:10]\n",
    "    date1 =date(int(year1),int(month1),int(day1))\n",
    "    date2 =date(int(year2),int(month2),int(day2))\n",
    "    if numOfDays(date1,date2)!=0:\n",
    "        #delivery_days.append(numOfDays(date1, date2))\n",
    "        datexy.loc[x, \"delivery_time\"] = numOfDays(date1, date2)\n",
    "        #print(numOfDays(date1,date2))\n"
   ]
  },
  {
   "cell_type": "code",
   "execution_count": 14,
   "metadata": {},
   "outputs": [],
   "source": [
    "newerorders = pd.merge(newerorders,datexy[['order_id','delivery_time']],on='order_id', how='left')"
   ]
  },
  {
   "cell_type": "markdown",
   "metadata": {},
   "source": [
    "### Now we will concat these dataframes together"
   ]
  },
  {
   "cell_type": "code",
   "execution_count": 15,
   "metadata": {
    "scrolled": true
   },
   "outputs": [
    {
     "name": "stdout",
     "output_type": "stream",
     "text": [
      "<class 'pandas.core.frame.DataFrame'>\n",
      "Int64Index: 110193 entries, 0 to 112649\n",
      "Data columns (total 7 columns):\n",
      " #   Column               Non-Null Count   Dtype  \n",
      "---  ------               --------------   -----  \n",
      " 0   order_id             110193 non-null  object \n",
      " 1   order_item_id        110193 non-null  int64  \n",
      " 2   product_id           110193 non-null  object \n",
      " 3   seller_id            110193 non-null  object \n",
      " 4   shipping_limit_date  110193 non-null  object \n",
      " 5   price                110193 non-null  float64\n",
      " 6   freight_value        110193 non-null  float64\n",
      "dtypes: float64(2), int64(1), object(4)\n",
      "memory usage: 6.7+ MB\n",
      "<class 'pandas.core.frame.DataFrame'>\n",
      "Int64Index: 96475 entries, 0 to 96474\n",
      "Data columns (total 9 columns):\n",
      " #   Column                         Non-Null Count  Dtype  \n",
      "---  ------                         --------------  -----  \n",
      " 0   order_id                       96475 non-null  object \n",
      " 1   customer_id                    96475 non-null  object \n",
      " 2   order_status                   96475 non-null  object \n",
      " 3   order_purchase_timestamp       96475 non-null  object \n",
      " 4   order_approved_at              96461 non-null  object \n",
      " 5   order_delivered_carrier_date   96474 non-null  object \n",
      " 6   order_delivered_customer_date  96475 non-null  object \n",
      " 7   order_estimated_delivery_date  96475 non-null  object \n",
      " 8   delivery_time                  96474 non-null  float64\n",
      "dtypes: float64(1), object(8)\n",
      "memory usage: 7.4+ MB\n",
      "<class 'pandas.core.frame.DataFrame'>\n",
      "Int64Index: 100754 entries, 0 to 103885\n",
      "Data columns (total 5 columns):\n",
      " #   Column                Non-Null Count   Dtype  \n",
      "---  ------                --------------   -----  \n",
      " 0   order_id              100754 non-null  object \n",
      " 1   payment_sequential    100754 non-null  int64  \n",
      " 2   payment_type          100754 non-null  object \n",
      " 3   payment_installments  100754 non-null  int64  \n",
      " 4   payment_value         100754 non-null  float64\n",
      "dtypes: float64(1), int64(2), object(2)\n",
      "memory usage: 4.6+ MB\n",
      "<class 'pandas.core.frame.DataFrame'>\n",
      "Int64Index: 97012 entries, 0 to 99999\n",
      "Data columns (total 7 columns):\n",
      " #   Column                   Non-Null Count  Dtype \n",
      "---  ------                   --------------  ----- \n",
      " 0   review_id                97012 non-null  object\n",
      " 1   order_id                 97012 non-null  object\n",
      " 2   review_score             97012 non-null  int64 \n",
      " 3   review_comment_title     11321 non-null  object\n",
      " 4   review_comment_message   39753 non-null  object\n",
      " 5   review_creation_date     97012 non-null  object\n",
      " 6   review_answer_timestamp  97012 non-null  object\n",
      "dtypes: int64(1), object(6)\n",
      "memory usage: 5.9+ MB\n"
     ]
    }
   ],
   "source": [
    "newerorderitems.info()\n",
    "newerorders.info()\n",
    "newerorderpayments.info()\n",
    "newerorderreviews.info()"
   ]
  },
  {
   "cell_type": "code",
   "execution_count": 16,
   "metadata": {},
   "outputs": [
    {
     "name": "stdout",
     "output_type": "stream",
     "text": [
      "0              cool_stuff\n",
      "1              cool_stuff\n",
      "2              cool_stuff\n",
      "3              cool_stuff\n",
      "4              cool_stuff\n",
      "               ...       \n",
      "115722       garden_tools\n",
      "115723    furniture_decor\n",
      "115724      watches_gifts\n",
      "115725     sports_leisure\n",
      "115726     bed_bath_table\n",
      "Name: product_category_name, Length: 115727, dtype: object\n"
     ]
    }
   ],
   "source": [
    "new = pd.merge(newerorderitems, newerorderpayments, on='order_id')\n",
    "new1 = pd.merge(new, newerorderreviews, on='order_id')\n",
    "new2 = pd.merge(new1, newerorders, on='order_id')\n",
    "completedata = pd.merge(new2, products, on='product_id')\n",
    "\n",
    "# translate category names to english\n",
    "translate = translation.set_index('product_category_name').to_dict()['product_category_name_english']\n",
    "\n",
    "completedata['product_category_name'].replace(translate, inplace=True)\n",
    "\n",
    "print(completedata[\"product_category_name\"])"
   ]
  },
  {
   "cell_type": "code",
   "execution_count": 17,
   "metadata": {},
   "outputs": [
    {
     "name": "stdout",
     "output_type": "stream",
     "text": [
      "<class 'pandas.core.frame.DataFrame'>\n",
      "Int64Index: 115727 entries, 0 to 115726\n",
      "Data columns (total 33 columns):\n",
      " #   Column                         Non-Null Count   Dtype  \n",
      "---  ------                         --------------   -----  \n",
      " 0   order_id                       115727 non-null  object \n",
      " 1   order_item_id                  115727 non-null  int64  \n",
      " 2   product_id                     115727 non-null  object \n",
      " 3   seller_id                      115727 non-null  object \n",
      " 4   shipping_limit_date            115727 non-null  object \n",
      " 5   price                          115727 non-null  float64\n",
      " 6   freight_value                  115727 non-null  float64\n",
      " 7   payment_sequential             115727 non-null  int64  \n",
      " 8   payment_type                   115727 non-null  object \n",
      " 9   payment_installments           115727 non-null  int64  \n",
      " 10  payment_value                  115727 non-null  float64\n",
      " 11  review_id                      115727 non-null  object \n",
      " 12  review_score                   115727 non-null  int64  \n",
      " 13  review_comment_title           13747 non-null   object \n",
      " 14  review_comment_message         48963 non-null   object \n",
      " 15  review_creation_date           115727 non-null  object \n",
      " 16  review_answer_timestamp        115727 non-null  object \n",
      " 17  customer_id                    115727 non-null  object \n",
      " 18  order_status                   115727 non-null  object \n",
      " 19  order_purchase_timestamp       115727 non-null  object \n",
      " 20  order_approved_at              115712 non-null  object \n",
      " 21  order_delivered_carrier_date   115726 non-null  object \n",
      " 22  order_delivered_customer_date  115727 non-null  object \n",
      " 23  order_estimated_delivery_date  115727 non-null  object \n",
      " 24  delivery_time                  115726 non-null  float64\n",
      " 25  product_category_name          114089 non-null  object \n",
      " 26  product_name_lenght            114089 non-null  float64\n",
      " 27  product_description_lenght     114089 non-null  float64\n",
      " 28  product_photos_qty             114089 non-null  float64\n",
      " 29  product_weight_g               115707 non-null  float64\n",
      " 30  product_length_cm              115707 non-null  float64\n",
      " 31  product_height_cm              115707 non-null  float64\n",
      " 32  product_width_cm               115707 non-null  float64\n",
      "dtypes: float64(11), int64(4), object(18)\n",
      "memory usage: 30.0+ MB\n"
     ]
    }
   ],
   "source": [
    "completedata.info()"
   ]
  },
  {
   "cell_type": "markdown",
   "metadata": {},
   "source": [
    "## Still have some null values in product category, description, etc. We will drop all these rows."
   ]
  },
  {
   "cell_type": "code",
   "execution_count": 18,
   "metadata": {},
   "outputs": [
    {
     "name": "stdout",
     "output_type": "stream",
     "text": [
      "<class 'pandas.core.frame.DataFrame'>\n",
      "Int64Index: 114087 entries, 0 to 115726\n",
      "Data columns (total 33 columns):\n",
      " #   Column                         Non-Null Count   Dtype  \n",
      "---  ------                         --------------   -----  \n",
      " 0   order_id                       114087 non-null  object \n",
      " 1   order_item_id                  114087 non-null  int64  \n",
      " 2   product_id                     114087 non-null  object \n",
      " 3   seller_id                      114087 non-null  object \n",
      " 4   shipping_limit_date            114087 non-null  object \n",
      " 5   price                          114087 non-null  float64\n",
      " 6   freight_value                  114087 non-null  float64\n",
      " 7   payment_sequential             114087 non-null  int64  \n",
      " 8   payment_type                   114087 non-null  object \n",
      " 9   payment_installments           114087 non-null  int64  \n",
      " 10  payment_value                  114087 non-null  float64\n",
      " 11  review_id                      114087 non-null  object \n",
      " 12  review_score                   114087 non-null  int64  \n",
      " 13  review_comment_title           13667 non-null   object \n",
      " 14  review_comment_message         48234 non-null   object \n",
      " 15  review_creation_date           114087 non-null  object \n",
      " 16  review_answer_timestamp        114087 non-null  object \n",
      " 17  customer_id                    114087 non-null  object \n",
      " 18  order_status                   114087 non-null  object \n",
      " 19  order_purchase_timestamp       114087 non-null  object \n",
      " 20  order_approved_at              114073 non-null  object \n",
      " 21  order_delivered_carrier_date   114086 non-null  object \n",
      " 22  order_delivered_customer_date  114087 non-null  object \n",
      " 23  order_estimated_delivery_date  114087 non-null  object \n",
      " 24  delivery_time                  114087 non-null  float64\n",
      " 25  product_category_name          114087 non-null  int8   \n",
      " 26  product_name_lenght            114087 non-null  float64\n",
      " 27  product_description_lenght     114087 non-null  float64\n",
      " 28  product_photos_qty             114087 non-null  float64\n",
      " 29  product_weight_g               114087 non-null  float64\n",
      " 30  product_length_cm              114087 non-null  float64\n",
      " 31  product_height_cm              114087 non-null  float64\n",
      " 32  product_width_cm               114087 non-null  float64\n",
      "dtypes: float64(11), int64(4), int8(1), object(17)\n",
      "memory usage: 28.8+ MB\n"
     ]
    },
    {
     "name": "stderr",
     "output_type": "stream",
     "text": [
      "<ipython-input-18-c7f2777c29ea>:2: SettingWithCopyWarning: \n",
      "A value is trying to be set on a copy of a slice from a DataFrame.\n",
      "Try using .loc[row_indexer,col_indexer] = value instead\n",
      "\n",
      "See the caveats in the documentation: https://pandas.pydata.org/pandas-docs/stable/user_guide/indexing.html#returning-a-view-versus-a-copy\n",
      "  finaldata[\"product_category_name\"] = finaldata[\"product_category_name\"].astype('category')\n",
      "<ipython-input-18-c7f2777c29ea>:3: SettingWithCopyWarning: \n",
      "A value is trying to be set on a copy of a slice from a DataFrame.\n",
      "Try using .loc[row_indexer,col_indexer] = value instead\n",
      "\n",
      "See the caveats in the documentation: https://pandas.pydata.org/pandas-docs/stable/user_guide/indexing.html#returning-a-view-versus-a-copy\n",
      "  finaldata[\"product_category_name\"] = finaldata[\"product_category_name\"].cat.codes\n"
     ]
    }
   ],
   "source": [
    "finaldata = completedata.dropna(subset = ['product_category_name','product_name_lenght','product_description_lenght','product_photos_qty','product_weight_g','product_length_cm','product_height_cm','product_width_cm','delivery_time'])\n",
    "finaldata[\"product_category_name\"] = finaldata[\"product_category_name\"].astype('category')\n",
    "finaldata[\"product_category_name\"] = finaldata[\"product_category_name\"].cat.codes\n",
    "finaldata.info()"
   ]
  },
  {
   "cell_type": "code",
   "execution_count": null,
   "metadata": {},
   "outputs": [],
   "source": []
  },
  {
   "cell_type": "markdown",
   "metadata": {},
   "source": [
    "### Now we are left with null values only present in the review title and message. We will not be dropping these values"
   ]
  },
  {
   "cell_type": "markdown",
   "metadata": {},
   "source": [
    "# Calculation of Retention Rates:\n",
    "### If a customer orders more than once, we will assume that the customer is a \"retained customer\"\n",
    "### We will then use a few predictors to determine which variable is most important that impacts the categorical Yes/No of Churn."
   ]
  },
  {
   "cell_type": "code",
   "execution_count": 19,
   "metadata": {},
   "outputs": [
    {
     "data": {
      "text/plain": [
       "96096"
      ]
     },
     "execution_count": 19,
     "metadata": {},
     "output_type": "execute_result"
    }
   ],
   "source": [
    "len(finaldata.customer_id.unique())\n",
    "len(customerdata.customer_unique_id.unique())"
   ]
  },
  {
   "cell_type": "markdown",
   "metadata": {},
   "source": [
    "\"At our system each order is assigned to a unique customerid. This means that the same customer will get different ids for different orders. The purpose of having a customerunique_id on the dataset is to allow you to identify customers that made repurchases at the store.\" \n",
    "### We would need to add a new column, customerunique_id to the orders dataset to identify repeat customers"
   ]
  },
  {
   "cell_type": "code",
   "execution_count": 20,
   "metadata": {
    "scrolled": true
   },
   "outputs": [
    {
     "name": "stdout",
     "output_type": "stream",
     "text": [
      "<class 'pandas.core.frame.DataFrame'>\n",
      "Int64Index: 114087 entries, 0 to 115726\n",
      "Data columns (total 34 columns):\n",
      " #   Column                         Non-Null Count   Dtype  \n",
      "---  ------                         --------------   -----  \n",
      " 0   order_id                       114087 non-null  object \n",
      " 1   order_item_id                  114087 non-null  int64  \n",
      " 2   product_id                     114087 non-null  object \n",
      " 3   seller_id                      114087 non-null  object \n",
      " 4   shipping_limit_date            114087 non-null  object \n",
      " 5   price                          114087 non-null  float64\n",
      " 6   freight_value                  114087 non-null  float64\n",
      " 7   payment_sequential             114087 non-null  int64  \n",
      " 8   payment_type                   114087 non-null  object \n",
      " 9   payment_installments           114087 non-null  int64  \n",
      " 10  payment_value                  114087 non-null  float64\n",
      " 11  review_id                      114087 non-null  object \n",
      " 12  review_score                   114087 non-null  int64  \n",
      " 13  review_comment_title           13667 non-null   object \n",
      " 14  review_comment_message         48234 non-null   object \n",
      " 15  review_creation_date           114087 non-null  object \n",
      " 16  review_answer_timestamp        114087 non-null  object \n",
      " 17  customer_id                    114087 non-null  object \n",
      " 18  order_status                   114087 non-null  object \n",
      " 19  order_purchase_timestamp       114087 non-null  object \n",
      " 20  order_approved_at              114073 non-null  object \n",
      " 21  order_delivered_carrier_date   114086 non-null  object \n",
      " 22  order_delivered_customer_date  114087 non-null  object \n",
      " 23  order_estimated_delivery_date  114087 non-null  object \n",
      " 24  delivery_time                  114087 non-null  float64\n",
      " 25  product_category_name          114087 non-null  int8   \n",
      " 26  product_name_lenght            114087 non-null  float64\n",
      " 27  product_description_lenght     114087 non-null  float64\n",
      " 28  product_photos_qty             114087 non-null  float64\n",
      " 29  product_weight_g               114087 non-null  float64\n",
      " 30  product_length_cm              114087 non-null  float64\n",
      " 31  product_height_cm              114087 non-null  float64\n",
      " 32  product_width_cm               114087 non-null  float64\n",
      " 33  customer_unique_id             114087 non-null  object \n",
      "dtypes: float64(11), int64(4), int8(1), object(18)\n",
      "memory usage: 29.7+ MB\n"
     ]
    },
    {
     "name": "stderr",
     "output_type": "stream",
     "text": [
      "<ipython-input-20-d375966f8aa7>:4: SettingWithCopyWarning: \n",
      "A value is trying to be set on a copy of a slice from a DataFrame.\n",
      "Try using .loc[row_indexer,col_indexer] = value instead\n",
      "\n",
      "See the caveats in the documentation: https://pandas.pydata.org/pandas-docs/stable/user_guide/indexing.html#returning-a-view-versus-a-copy\n",
      "  finaldata['customer_unique_id'] = finaldata.customer_id.map(customer_translate)\n"
     ]
    }
   ],
   "source": [
    "customer_translate = customerdata.set_index('customer_id').to_dict()['customer_unique_id']\n",
    "#finaldata['customer_unique_id'] = finaldata['customer_id'].map(customer_translate)\n",
    "\n",
    "finaldata['customer_unique_id'] = finaldata.customer_id.map(customer_translate)\n",
    "len(finaldata.customer_unique_id.unique())\n",
    "finaldata.info()"
   ]
  },
  {
   "cell_type": "code",
   "execution_count": 21,
   "metadata": {},
   "outputs": [
    {
     "data": {
      "text/html": [
       "<div>\n",
       "<style scoped>\n",
       "    .dataframe tbody tr th:only-of-type {\n",
       "        vertical-align: middle;\n",
       "    }\n",
       "\n",
       "    .dataframe tbody tr th {\n",
       "        vertical-align: top;\n",
       "    }\n",
       "\n",
       "    .dataframe thead th {\n",
       "        text-align: right;\n",
       "    }\n",
       "</style>\n",
       "<table border=\"1\" class=\"dataframe\">\n",
       "  <thead>\n",
       "    <tr style=\"text-align: right;\">\n",
       "      <th></th>\n",
       "      <th>customer_id</th>\n",
       "      <th>customer_unique_id</th>\n",
       "    </tr>\n",
       "  </thead>\n",
       "  <tbody>\n",
       "    <tr>\n",
       "      <th>19395</th>\n",
       "      <td>fadbb3709178fc513abc1b2670aa1ad2</td>\n",
       "      <td>0000366f3b9a7992bf8c76cfdf3221e2</td>\n",
       "    </tr>\n",
       "    <tr>\n",
       "      <th>78560</th>\n",
       "      <td>4cb282e167ae9234755102258dd52ee8</td>\n",
       "      <td>0000b849f77a49e4a4ce2b2a4ca5be3f</td>\n",
       "    </tr>\n",
       "    <tr>\n",
       "      <th>85751</th>\n",
       "      <td>9b3932a6253894a02c1df9d19004239f</td>\n",
       "      <td>0000f46a3911fa3c0805444483337064</td>\n",
       "    </tr>\n",
       "    <tr>\n",
       "      <th>83192</th>\n",
       "      <td>914991f0c02ef0843c0e7010c819d642</td>\n",
       "      <td>0000f6ccb0745a6a4b88665a16c9f078</td>\n",
       "    </tr>\n",
       "    <tr>\n",
       "      <th>112043</th>\n",
       "      <td>47227568b10f5f58a524a75507e6992c</td>\n",
       "      <td>0004aac84e0df4da2b147fca70cf8255</td>\n",
       "    </tr>\n",
       "    <tr>\n",
       "      <th>...</th>\n",
       "      <td>...</td>\n",
       "      <td>...</td>\n",
       "    </tr>\n",
       "    <tr>\n",
       "      <th>96832</th>\n",
       "      <td>74be082247cd677a147d83ee670e9d53</td>\n",
       "      <td>fffcf5a5ff07b0908bd4e2dbc735a684</td>\n",
       "    </tr>\n",
       "    <tr>\n",
       "      <th>38570</th>\n",
       "      <td>0ecf8e0a08148af0bf313184f167670a</td>\n",
       "      <td>fffea47cd6d3cc0a88bd621562a9d061</td>\n",
       "    </tr>\n",
       "    <tr>\n",
       "      <th>92416</th>\n",
       "      <td>27f584b0f1dc4e610065c240f68b6be0</td>\n",
       "      <td>ffff371b4d645b6ecea244b27531430a</td>\n",
       "    </tr>\n",
       "    <tr>\n",
       "      <th>20016</th>\n",
       "      <td>832a3b0254347d409512ae92eaf154a6</td>\n",
       "      <td>ffff5962728ec6157033ef9805bacc48</td>\n",
       "    </tr>\n",
       "    <tr>\n",
       "      <th>15373</th>\n",
       "      <td>70bc4d9cf2bbeea3f7b09798370f5884</td>\n",
       "      <td>ffffd2657e2aad2907e67c3e9daecbeb</td>\n",
       "    </tr>\n",
       "  </tbody>\n",
       "</table>\n",
       "<p>114087 rows × 2 columns</p>\n",
       "</div>"
      ],
      "text/plain": [
       "                             customer_id                customer_unique_id\n",
       "19395   fadbb3709178fc513abc1b2670aa1ad2  0000366f3b9a7992bf8c76cfdf3221e2\n",
       "78560   4cb282e167ae9234755102258dd52ee8  0000b849f77a49e4a4ce2b2a4ca5be3f\n",
       "85751   9b3932a6253894a02c1df9d19004239f  0000f46a3911fa3c0805444483337064\n",
       "83192   914991f0c02ef0843c0e7010c819d642  0000f6ccb0745a6a4b88665a16c9f078\n",
       "112043  47227568b10f5f58a524a75507e6992c  0004aac84e0df4da2b147fca70cf8255\n",
       "...                                  ...                               ...\n",
       "96832   74be082247cd677a147d83ee670e9d53  fffcf5a5ff07b0908bd4e2dbc735a684\n",
       "38570   0ecf8e0a08148af0bf313184f167670a  fffea47cd6d3cc0a88bd621562a9d061\n",
       "92416   27f584b0f1dc4e610065c240f68b6be0  ffff371b4d645b6ecea244b27531430a\n",
       "20016   832a3b0254347d409512ae92eaf154a6  ffff5962728ec6157033ef9805bacc48\n",
       "15373   70bc4d9cf2bbeea3f7b09798370f5884  ffffd2657e2aad2907e67c3e9daecbeb\n",
       "\n",
       "[114087 rows x 2 columns]"
      ]
     },
     "execution_count": 21,
     "metadata": {},
     "output_type": "execute_result"
    }
   ],
   "source": [
    "explore = finaldata[['customer_id','customer_unique_id']]\n",
    "explore.sort_values(by=['customer_unique_id'])"
   ]
  },
  {
   "cell_type": "markdown",
   "metadata": {},
   "source": [
    "### Extracting rows where unique customer id can be mapped to at least 2 different customer ids  "
   ]
  },
  {
   "cell_type": "code",
   "execution_count": 22,
   "metadata": {
    "scrolled": true
   },
   "outputs": [
    {
     "data": {
      "text/html": [
       "<div>\n",
       "<style scoped>\n",
       "    .dataframe tbody tr th:only-of-type {\n",
       "        vertical-align: middle;\n",
       "    }\n",
       "\n",
       "    .dataframe tbody tr th {\n",
       "        vertical-align: top;\n",
       "    }\n",
       "\n",
       "    .dataframe thead th {\n",
       "        text-align: right;\n",
       "    }\n",
       "</style>\n",
       "<table border=\"1\" class=\"dataframe\">\n",
       "  <thead>\n",
       "    <tr style=\"text-align: right;\">\n",
       "      <th></th>\n",
       "      <th>customer_id</th>\n",
       "      <th>customer_unique_id</th>\n",
       "    </tr>\n",
       "  </thead>\n",
       "  <tbody>\n",
       "    <tr>\n",
       "      <th>11</th>\n",
       "      <td>f6dd3ec061db4e3987629fe6b26e5cce</td>\n",
       "      <td>eb28e67c4c0b83846050ddfb8a35d051</td>\n",
       "    </tr>\n",
       "    <tr>\n",
       "      <th>70</th>\n",
       "      <td>0bc91e14cb93aab1b6f6730922a31aad</td>\n",
       "      <td>c2a444c39a2d87b50039f910db917e3d</td>\n",
       "    </tr>\n",
       "    <tr>\n",
       "      <th>115</th>\n",
       "      <td>1e248ce64cdbfc9d30332ff380eef1ab</td>\n",
       "      <td>f62d6572c9c25b3796d058d7b833f8b7</td>\n",
       "    </tr>\n",
       "    <tr>\n",
       "      <th>133</th>\n",
       "      <td>d3ab89d9a1a9f356e6da0f519d0bf68e</td>\n",
       "      <td>213b36024bb0b8261de0ffbd652ebc34</td>\n",
       "    </tr>\n",
       "    <tr>\n",
       "      <th>178</th>\n",
       "      <td>1ba27dd3d21d68e40a49916af05cafef</td>\n",
       "      <td>59bba92de9b8f6be0808e4d9d64b4b43</td>\n",
       "    </tr>\n",
       "    <tr>\n",
       "      <th>...</th>\n",
       "      <td>...</td>\n",
       "      <td>...</td>\n",
       "    </tr>\n",
       "    <tr>\n",
       "      <th>115575</th>\n",
       "      <td>3b11d54278a86bfa191ef947e654c9cb</td>\n",
       "      <td>cef42836ff25476d55c9a3e58f8da99d</td>\n",
       "    </tr>\n",
       "    <tr>\n",
       "      <th>115669</th>\n",
       "      <td>86f759cadfc423887480182ca9589e39</td>\n",
       "      <td>455c17b35969ca198c17f2fc9e8eba1b</td>\n",
       "    </tr>\n",
       "    <tr>\n",
       "      <th>115673</th>\n",
       "      <td>9c358be1d13efdf63bdffaad35834115</td>\n",
       "      <td>85ed7212fe192ab02ab44c95ba87868e</td>\n",
       "    </tr>\n",
       "    <tr>\n",
       "      <th>115700</th>\n",
       "      <td>069dca5337f1cf3f778d0cfa43ce8dd9</td>\n",
       "      <td>c130bf40aa6d3bdb444b04a8d78adf5a</td>\n",
       "    </tr>\n",
       "    <tr>\n",
       "      <th>115723</th>\n",
       "      <td>11e0f43ab4e2d2c48348dd9332c0ef80</td>\n",
       "      <td>4e15fee963523774998876e3624952f4</td>\n",
       "    </tr>\n",
       "  </tbody>\n",
       "</table>\n",
       "<p>5790 rows × 2 columns</p>\n",
       "</div>"
      ],
      "text/plain": [
       "                             customer_id                customer_unique_id\n",
       "11      f6dd3ec061db4e3987629fe6b26e5cce  eb28e67c4c0b83846050ddfb8a35d051\n",
       "70      0bc91e14cb93aab1b6f6730922a31aad  c2a444c39a2d87b50039f910db917e3d\n",
       "115     1e248ce64cdbfc9d30332ff380eef1ab  f62d6572c9c25b3796d058d7b833f8b7\n",
       "133     d3ab89d9a1a9f356e6da0f519d0bf68e  213b36024bb0b8261de0ffbd652ebc34\n",
       "178     1ba27dd3d21d68e40a49916af05cafef  59bba92de9b8f6be0808e4d9d64b4b43\n",
       "...                                  ...                               ...\n",
       "115575  3b11d54278a86bfa191ef947e654c9cb  cef42836ff25476d55c9a3e58f8da99d\n",
       "115669  86f759cadfc423887480182ca9589e39  455c17b35969ca198c17f2fc9e8eba1b\n",
       "115673  9c358be1d13efdf63bdffaad35834115  85ed7212fe192ab02ab44c95ba87868e\n",
       "115700  069dca5337f1cf3f778d0cfa43ce8dd9  c130bf40aa6d3bdb444b04a8d78adf5a\n",
       "115723  11e0f43ab4e2d2c48348dd9332c0ef80  4e15fee963523774998876e3624952f4\n",
       "\n",
       "[5790 rows x 2 columns]"
      ]
     },
     "execution_count": 22,
     "metadata": {},
     "output_type": "execute_result"
    }
   ],
   "source": [
    "retain = explore.drop_duplicates(subset =['customer_id'])\n",
    "retainlist = retain.customer_unique_id.value_counts()\n",
    "retainedcustomers = retain[retain.customer_unique_id.isin(retainlist.index[retainlist.ge(2)])]\n",
    "retainedcustomers"
   ]
  },
  {
   "cell_type": "markdown",
   "metadata": {},
   "source": [
    "### Making of list of unique customer ids that have ordered > once."
   ]
  },
  {
   "cell_type": "code",
   "execution_count": 23,
   "metadata": {
    "scrolled": false
   },
   "outputs": [
    {
     "data": {
      "text/plain": [
       "2742"
      ]
     },
     "execution_count": 23,
     "metadata": {},
     "output_type": "execute_result"
    }
   ],
   "source": [
    "retaineduniqueid = retainedcustomers.customer_unique_id.unique().tolist()\n",
    "len(retaineduniqueid)"
   ]
  },
  {
   "cell_type": "markdown",
   "metadata": {},
   "source": [
    "### Adding a 'retained' column to finaldata"
   ]
  },
  {
   "cell_type": "code",
   "execution_count": 24,
   "metadata": {},
   "outputs": [
    {
     "name": "stderr",
     "output_type": "stream",
     "text": [
      "<ipython-input-24-644961585fd1>:1: SettingWithCopyWarning: \n",
      "A value is trying to be set on a copy of a slice from a DataFrame.\n",
      "Try using .loc[row_indexer,col_indexer] = value instead\n",
      "\n",
      "See the caveats in the documentation: https://pandas.pydata.org/pandas-docs/stable/user_guide/indexing.html#returning-a-view-versus-a-copy\n",
      "  finaldata['retained'] = np.where(finaldata['customer_unique_id'].isin(retaineduniqueid), True, False)\n"
     ]
    },
    {
     "data": {
      "text/html": [
       "<div>\n",
       "<style scoped>\n",
       "    .dataframe tbody tr th:only-of-type {\n",
       "        vertical-align: middle;\n",
       "    }\n",
       "\n",
       "    .dataframe tbody tr th {\n",
       "        vertical-align: top;\n",
       "    }\n",
       "\n",
       "    .dataframe thead th {\n",
       "        text-align: right;\n",
       "    }\n",
       "</style>\n",
       "<table border=\"1\" class=\"dataframe\">\n",
       "  <thead>\n",
       "    <tr style=\"text-align: right;\">\n",
       "      <th></th>\n",
       "      <th>order_id</th>\n",
       "      <th>order_item_id</th>\n",
       "      <th>product_id</th>\n",
       "      <th>seller_id</th>\n",
       "      <th>shipping_limit_date</th>\n",
       "      <th>price</th>\n",
       "      <th>freight_value</th>\n",
       "      <th>payment_sequential</th>\n",
       "      <th>payment_type</th>\n",
       "      <th>payment_installments</th>\n",
       "      <th>...</th>\n",
       "      <th>product_category_name</th>\n",
       "      <th>product_name_lenght</th>\n",
       "      <th>product_description_lenght</th>\n",
       "      <th>product_photos_qty</th>\n",
       "      <th>product_weight_g</th>\n",
       "      <th>product_length_cm</th>\n",
       "      <th>product_height_cm</th>\n",
       "      <th>product_width_cm</th>\n",
       "      <th>customer_unique_id</th>\n",
       "      <th>retained</th>\n",
       "    </tr>\n",
       "  </thead>\n",
       "  <tbody>\n",
       "    <tr>\n",
       "      <th>0</th>\n",
       "      <td>00010242fe8c5a6d1ba2dd792cb16214</td>\n",
       "      <td>1</td>\n",
       "      <td>4244733e06e7ecb4970a6e2683c13e61</td>\n",
       "      <td>48436dade18ac8b2bce089ec2a041202</td>\n",
       "      <td>2017-09-19 09:45:35</td>\n",
       "      <td>58.9</td>\n",
       "      <td>13.29</td>\n",
       "      <td>1</td>\n",
       "      <td>credit_card</td>\n",
       "      <td>2</td>\n",
       "      <td>...</td>\n",
       "      <td>20</td>\n",
       "      <td>58.0</td>\n",
       "      <td>598.0</td>\n",
       "      <td>4.0</td>\n",
       "      <td>650.0</td>\n",
       "      <td>28.0</td>\n",
       "      <td>9.0</td>\n",
       "      <td>14.0</td>\n",
       "      <td>871766c5855e863f6eccc05f988b23cb</td>\n",
       "      <td>False</td>\n",
       "    </tr>\n",
       "    <tr>\n",
       "      <th>1</th>\n",
       "      <td>130898c0987d1801452a8ed92a670612</td>\n",
       "      <td>1</td>\n",
       "      <td>4244733e06e7ecb4970a6e2683c13e61</td>\n",
       "      <td>48436dade18ac8b2bce089ec2a041202</td>\n",
       "      <td>2017-07-05 02:44:11</td>\n",
       "      <td>55.9</td>\n",
       "      <td>17.96</td>\n",
       "      <td>1</td>\n",
       "      <td>boleto</td>\n",
       "      <td>1</td>\n",
       "      <td>...</td>\n",
       "      <td>20</td>\n",
       "      <td>58.0</td>\n",
       "      <td>598.0</td>\n",
       "      <td>4.0</td>\n",
       "      <td>650.0</td>\n",
       "      <td>28.0</td>\n",
       "      <td>9.0</td>\n",
       "      <td>14.0</td>\n",
       "      <td>0fb8e3eab2d3e79d92bb3fffbb97f188</td>\n",
       "      <td>False</td>\n",
       "    </tr>\n",
       "    <tr>\n",
       "      <th>2</th>\n",
       "      <td>532ed5e14e24ae1f0d735b91524b98b9</td>\n",
       "      <td>1</td>\n",
       "      <td>4244733e06e7ecb4970a6e2683c13e61</td>\n",
       "      <td>48436dade18ac8b2bce089ec2a041202</td>\n",
       "      <td>2018-05-23 10:56:25</td>\n",
       "      <td>64.9</td>\n",
       "      <td>18.33</td>\n",
       "      <td>1</td>\n",
       "      <td>credit_card</td>\n",
       "      <td>2</td>\n",
       "      <td>...</td>\n",
       "      <td>20</td>\n",
       "      <td>58.0</td>\n",
       "      <td>598.0</td>\n",
       "      <td>4.0</td>\n",
       "      <td>650.0</td>\n",
       "      <td>28.0</td>\n",
       "      <td>9.0</td>\n",
       "      <td>14.0</td>\n",
       "      <td>3419052c8c6b45daf79c1e426f9e9bcb</td>\n",
       "      <td>False</td>\n",
       "    </tr>\n",
       "    <tr>\n",
       "      <th>3</th>\n",
       "      <td>6f8c31653edb8c83e1a739408b5ff750</td>\n",
       "      <td>1</td>\n",
       "      <td>4244733e06e7ecb4970a6e2683c13e61</td>\n",
       "      <td>48436dade18ac8b2bce089ec2a041202</td>\n",
       "      <td>2017-08-07 18:55:08</td>\n",
       "      <td>58.9</td>\n",
       "      <td>16.17</td>\n",
       "      <td>1</td>\n",
       "      <td>credit_card</td>\n",
       "      <td>3</td>\n",
       "      <td>...</td>\n",
       "      <td>20</td>\n",
       "      <td>58.0</td>\n",
       "      <td>598.0</td>\n",
       "      <td>4.0</td>\n",
       "      <td>650.0</td>\n",
       "      <td>28.0</td>\n",
       "      <td>9.0</td>\n",
       "      <td>14.0</td>\n",
       "      <td>e7c828d22c0682c1565252deefbe334d</td>\n",
       "      <td>False</td>\n",
       "    </tr>\n",
       "    <tr>\n",
       "      <th>4</th>\n",
       "      <td>7d19f4ef4d04461989632411b7e588b9</td>\n",
       "      <td>1</td>\n",
       "      <td>4244733e06e7ecb4970a6e2683c13e61</td>\n",
       "      <td>48436dade18ac8b2bce089ec2a041202</td>\n",
       "      <td>2017-08-16 22:05:11</td>\n",
       "      <td>58.9</td>\n",
       "      <td>13.29</td>\n",
       "      <td>1</td>\n",
       "      <td>credit_card</td>\n",
       "      <td>4</td>\n",
       "      <td>...</td>\n",
       "      <td>20</td>\n",
       "      <td>58.0</td>\n",
       "      <td>598.0</td>\n",
       "      <td>4.0</td>\n",
       "      <td>650.0</td>\n",
       "      <td>28.0</td>\n",
       "      <td>9.0</td>\n",
       "      <td>14.0</td>\n",
       "      <td>0bb98ba72dcc08e95f9d8cc434e9a2cc</td>\n",
       "      <td>False</td>\n",
       "    </tr>\n",
       "    <tr>\n",
       "      <th>...</th>\n",
       "      <td>...</td>\n",
       "      <td>...</td>\n",
       "      <td>...</td>\n",
       "      <td>...</td>\n",
       "      <td>...</td>\n",
       "      <td>...</td>\n",
       "      <td>...</td>\n",
       "      <td>...</td>\n",
       "      <td>...</td>\n",
       "      <td>...</td>\n",
       "      <td>...</td>\n",
       "      <td>...</td>\n",
       "      <td>...</td>\n",
       "      <td>...</td>\n",
       "      <td>...</td>\n",
       "      <td>...</td>\n",
       "      <td>...</td>\n",
       "      <td>...</td>\n",
       "      <td>...</td>\n",
       "      <td>...</td>\n",
       "      <td>...</td>\n",
       "    </tr>\n",
       "    <tr>\n",
       "      <th>115722</th>\n",
       "      <td>ffebd80e3291e811c308365936897efd</td>\n",
       "      <td>1</td>\n",
       "      <td>4cc4d02efc8f249c13355147fb44e34d</td>\n",
       "      <td>d1c7fa84e48cfa21a0e595167c1c500e</td>\n",
       "      <td>2018-07-18 20:23:55</td>\n",
       "      <td>129.9</td>\n",
       "      <td>51.20</td>\n",
       "      <td>1</td>\n",
       "      <td>credit_card</td>\n",
       "      <td>1</td>\n",
       "      <td>...</td>\n",
       "      <td>42</td>\n",
       "      <td>37.0</td>\n",
       "      <td>653.0</td>\n",
       "      <td>1.0</td>\n",
       "      <td>6700.0</td>\n",
       "      <td>35.0</td>\n",
       "      <td>12.0</td>\n",
       "      <td>22.0</td>\n",
       "      <td>a1c2e4b4c1b29e41684ebdf3cc6538f8</td>\n",
       "      <td>False</td>\n",
       "    </tr>\n",
       "    <tr>\n",
       "      <th>115723</th>\n",
       "      <td>ffee31fb4b5e35c9123608015637c495</td>\n",
       "      <td>1</td>\n",
       "      <td>b10ecf8e33aaaea419a9fa860ea80fb5</td>\n",
       "      <td>0241d4d5d36f10f80c644447315af0bd</td>\n",
       "      <td>2018-08-21 10:10:11</td>\n",
       "      <td>99.0</td>\n",
       "      <td>13.52</td>\n",
       "      <td>1</td>\n",
       "      <td>credit_card</td>\n",
       "      <td>2</td>\n",
       "      <td>...</td>\n",
       "      <td>39</td>\n",
       "      <td>30.0</td>\n",
       "      <td>308.0</td>\n",
       "      <td>1.0</td>\n",
       "      <td>2300.0</td>\n",
       "      <td>37.0</td>\n",
       "      <td>30.0</td>\n",
       "      <td>20.0</td>\n",
       "      <td>4e15fee963523774998876e3624952f4</td>\n",
       "      <td>True</td>\n",
       "    </tr>\n",
       "    <tr>\n",
       "      <th>115724</th>\n",
       "      <td>fff7c4452f050315db1b3f24d9df5fcd</td>\n",
       "      <td>1</td>\n",
       "      <td>dd469c03ad67e201bc2179ef077dcd48</td>\n",
       "      <td>7e93a43ef30c4f03f38b393420bc753a</td>\n",
       "      <td>2017-06-07 17:05:23</td>\n",
       "      <td>736.0</td>\n",
       "      <td>20.91</td>\n",
       "      <td>1</td>\n",
       "      <td>credit_card</td>\n",
       "      <td>1</td>\n",
       "      <td>...</td>\n",
       "      <td>72</td>\n",
       "      <td>33.0</td>\n",
       "      <td>658.0</td>\n",
       "      <td>3.0</td>\n",
       "      <td>400.0</td>\n",
       "      <td>19.0</td>\n",
       "      <td>9.0</td>\n",
       "      <td>15.0</td>\n",
       "      <td>c86ab5ff2bac777c4e770a383feca4eb</td>\n",
       "      <td>False</td>\n",
       "    </tr>\n",
       "    <tr>\n",
       "      <th>115725</th>\n",
       "      <td>fffa82886406ccf10c7b4e35c4ff2788</td>\n",
       "      <td>1</td>\n",
       "      <td>bbe7651fef80287a816ead73f065fc4b</td>\n",
       "      <td>8f2ce03f928b567e3d56181ae20ae952</td>\n",
       "      <td>2017-12-22 17:31:42</td>\n",
       "      <td>229.9</td>\n",
       "      <td>44.02</td>\n",
       "      <td>1</td>\n",
       "      <td>credit_card</td>\n",
       "      <td>7</td>\n",
       "      <td>...</td>\n",
       "      <td>67</td>\n",
       "      <td>32.0</td>\n",
       "      <td>280.0</td>\n",
       "      <td>2.0</td>\n",
       "      <td>2700.0</td>\n",
       "      <td>60.0</td>\n",
       "      <td>15.0</td>\n",
       "      <td>15.0</td>\n",
       "      <td>2a3ab9bf9639491997586882c502540a</td>\n",
       "      <td>False</td>\n",
       "    </tr>\n",
       "    <tr>\n",
       "      <th>115726</th>\n",
       "      <td>fffe41c64501cc87c801fd61db3f6244</td>\n",
       "      <td>1</td>\n",
       "      <td>350688d9dc1e75ff97be326363655e01</td>\n",
       "      <td>f7ccf836d21b2fb1de37564105216cc1</td>\n",
       "      <td>2018-06-12 17:10:13</td>\n",
       "      <td>43.0</td>\n",
       "      <td>12.79</td>\n",
       "      <td>1</td>\n",
       "      <td>credit_card</td>\n",
       "      <td>1</td>\n",
       "      <td>...</td>\n",
       "      <td>7</td>\n",
       "      <td>47.0</td>\n",
       "      <td>511.0</td>\n",
       "      <td>1.0</td>\n",
       "      <td>600.0</td>\n",
       "      <td>30.0</td>\n",
       "      <td>3.0</td>\n",
       "      <td>19.0</td>\n",
       "      <td>cd76a00d8e3ca5e6ab9ed9ecb6667ac4</td>\n",
       "      <td>False</td>\n",
       "    </tr>\n",
       "  </tbody>\n",
       "</table>\n",
       "<p>114087 rows × 35 columns</p>\n",
       "</div>"
      ],
      "text/plain": [
       "                                order_id  order_item_id  \\\n",
       "0       00010242fe8c5a6d1ba2dd792cb16214              1   \n",
       "1       130898c0987d1801452a8ed92a670612              1   \n",
       "2       532ed5e14e24ae1f0d735b91524b98b9              1   \n",
       "3       6f8c31653edb8c83e1a739408b5ff750              1   \n",
       "4       7d19f4ef4d04461989632411b7e588b9              1   \n",
       "...                                  ...            ...   \n",
       "115722  ffebd80e3291e811c308365936897efd              1   \n",
       "115723  ffee31fb4b5e35c9123608015637c495              1   \n",
       "115724  fff7c4452f050315db1b3f24d9df5fcd              1   \n",
       "115725  fffa82886406ccf10c7b4e35c4ff2788              1   \n",
       "115726  fffe41c64501cc87c801fd61db3f6244              1   \n",
       "\n",
       "                              product_id                         seller_id  \\\n",
       "0       4244733e06e7ecb4970a6e2683c13e61  48436dade18ac8b2bce089ec2a041202   \n",
       "1       4244733e06e7ecb4970a6e2683c13e61  48436dade18ac8b2bce089ec2a041202   \n",
       "2       4244733e06e7ecb4970a6e2683c13e61  48436dade18ac8b2bce089ec2a041202   \n",
       "3       4244733e06e7ecb4970a6e2683c13e61  48436dade18ac8b2bce089ec2a041202   \n",
       "4       4244733e06e7ecb4970a6e2683c13e61  48436dade18ac8b2bce089ec2a041202   \n",
       "...                                  ...                               ...   \n",
       "115722  4cc4d02efc8f249c13355147fb44e34d  d1c7fa84e48cfa21a0e595167c1c500e   \n",
       "115723  b10ecf8e33aaaea419a9fa860ea80fb5  0241d4d5d36f10f80c644447315af0bd   \n",
       "115724  dd469c03ad67e201bc2179ef077dcd48  7e93a43ef30c4f03f38b393420bc753a   \n",
       "115725  bbe7651fef80287a816ead73f065fc4b  8f2ce03f928b567e3d56181ae20ae952   \n",
       "115726  350688d9dc1e75ff97be326363655e01  f7ccf836d21b2fb1de37564105216cc1   \n",
       "\n",
       "        shipping_limit_date  price  freight_value  payment_sequential  \\\n",
       "0       2017-09-19 09:45:35   58.9          13.29                   1   \n",
       "1       2017-07-05 02:44:11   55.9          17.96                   1   \n",
       "2       2018-05-23 10:56:25   64.9          18.33                   1   \n",
       "3       2017-08-07 18:55:08   58.9          16.17                   1   \n",
       "4       2017-08-16 22:05:11   58.9          13.29                   1   \n",
       "...                     ...    ...            ...                 ...   \n",
       "115722  2018-07-18 20:23:55  129.9          51.20                   1   \n",
       "115723  2018-08-21 10:10:11   99.0          13.52                   1   \n",
       "115724  2017-06-07 17:05:23  736.0          20.91                   1   \n",
       "115725  2017-12-22 17:31:42  229.9          44.02                   1   \n",
       "115726  2018-06-12 17:10:13   43.0          12.79                   1   \n",
       "\n",
       "       payment_type  payment_installments  ...  product_category_name  \\\n",
       "0       credit_card                     2  ...                     20   \n",
       "1            boleto                     1  ...                     20   \n",
       "2       credit_card                     2  ...                     20   \n",
       "3       credit_card                     3  ...                     20   \n",
       "4       credit_card                     4  ...                     20   \n",
       "...             ...                   ...  ...                    ...   \n",
       "115722  credit_card                     1  ...                     42   \n",
       "115723  credit_card                     2  ...                     39   \n",
       "115724  credit_card                     1  ...                     72   \n",
       "115725  credit_card                     7  ...                     67   \n",
       "115726  credit_card                     1  ...                      7   \n",
       "\n",
       "       product_name_lenght  product_description_lenght product_photos_qty  \\\n",
       "0                     58.0                       598.0                4.0   \n",
       "1                     58.0                       598.0                4.0   \n",
       "2                     58.0                       598.0                4.0   \n",
       "3                     58.0                       598.0                4.0   \n",
       "4                     58.0                       598.0                4.0   \n",
       "...                    ...                         ...                ...   \n",
       "115722                37.0                       653.0                1.0   \n",
       "115723                30.0                       308.0                1.0   \n",
       "115724                33.0                       658.0                3.0   \n",
       "115725                32.0                       280.0                2.0   \n",
       "115726                47.0                       511.0                1.0   \n",
       "\n",
       "       product_weight_g product_length_cm product_height_cm product_width_cm  \\\n",
       "0                 650.0              28.0               9.0             14.0   \n",
       "1                 650.0              28.0               9.0             14.0   \n",
       "2                 650.0              28.0               9.0             14.0   \n",
       "3                 650.0              28.0               9.0             14.0   \n",
       "4                 650.0              28.0               9.0             14.0   \n",
       "...                 ...               ...               ...              ...   \n",
       "115722           6700.0              35.0              12.0             22.0   \n",
       "115723           2300.0              37.0              30.0             20.0   \n",
       "115724            400.0              19.0               9.0             15.0   \n",
       "115725           2700.0              60.0              15.0             15.0   \n",
       "115726            600.0              30.0               3.0             19.0   \n",
       "\n",
       "                      customer_unique_id retained  \n",
       "0       871766c5855e863f6eccc05f988b23cb    False  \n",
       "1       0fb8e3eab2d3e79d92bb3fffbb97f188    False  \n",
       "2       3419052c8c6b45daf79c1e426f9e9bcb    False  \n",
       "3       e7c828d22c0682c1565252deefbe334d    False  \n",
       "4       0bb98ba72dcc08e95f9d8cc434e9a2cc    False  \n",
       "...                                  ...      ...  \n",
       "115722  a1c2e4b4c1b29e41684ebdf3cc6538f8    False  \n",
       "115723  4e15fee963523774998876e3624952f4     True  \n",
       "115724  c86ab5ff2bac777c4e770a383feca4eb    False  \n",
       "115725  2a3ab9bf9639491997586882c502540a    False  \n",
       "115726  cd76a00d8e3ca5e6ab9ed9ecb6667ac4    False  \n",
       "\n",
       "[114087 rows x 35 columns]"
      ]
     },
     "execution_count": 24,
     "metadata": {},
     "output_type": "execute_result"
    }
   ],
   "source": [
    "finaldata['retained'] = np.where(finaldata['customer_unique_id'].isin(retaineduniqueid), True, False)\n",
    "finaldata\n"
   ]
  },
  {
   "cell_type": "markdown",
   "metadata": {},
   "source": [
    "### As you can see, those customers with retained = True have customer_unique_id mapped to at least 2 different customer_id"
   ]
  },
  {
   "cell_type": "code",
   "execution_count": 25,
   "metadata": {},
   "outputs": [
    {
     "data": {
      "text/html": [
       "<div>\n",
       "<style scoped>\n",
       "    .dataframe tbody tr th:only-of-type {\n",
       "        vertical-align: middle;\n",
       "    }\n",
       "\n",
       "    .dataframe tbody tr th {\n",
       "        vertical-align: top;\n",
       "    }\n",
       "\n",
       "    .dataframe thead th {\n",
       "        text-align: right;\n",
       "    }\n",
       "</style>\n",
       "<table border=\"1\" class=\"dataframe\">\n",
       "  <thead>\n",
       "    <tr style=\"text-align: right;\">\n",
       "      <th></th>\n",
       "      <th>customer_id</th>\n",
       "      <th>customer_unique_id</th>\n",
       "      <th>retained</th>\n",
       "    </tr>\n",
       "  </thead>\n",
       "  <tbody>\n",
       "    <tr>\n",
       "      <th>25686</th>\n",
       "      <td>1b4a75b3478138e99902678254b260f4</td>\n",
       "      <td>004288347e5e88a27ded2bb23747066c</td>\n",
       "      <td>True</td>\n",
       "    </tr>\n",
       "    <tr>\n",
       "      <th>37874</th>\n",
       "      <td>f6efe5d5c7b85e12355f9d5c3db46da2</td>\n",
       "      <td>004288347e5e88a27ded2bb23747066c</td>\n",
       "      <td>True</td>\n",
       "    </tr>\n",
       "    <tr>\n",
       "      <th>40459</th>\n",
       "      <td>876356df457f952458a764348e1858bc</td>\n",
       "      <td>00a39521eb40f7012db50455bf083460</td>\n",
       "      <td>True</td>\n",
       "    </tr>\n",
       "    <tr>\n",
       "      <th>32066</th>\n",
       "      <td>cbb68c721ba9ddb30d8a490cc1897fa1</td>\n",
       "      <td>00a39521eb40f7012db50455bf083460</td>\n",
       "      <td>True</td>\n",
       "    </tr>\n",
       "    <tr>\n",
       "      <th>93605</th>\n",
       "      <td>c0a44bf37d5601228051fc07852f951f</td>\n",
       "      <td>00cc12a6d8b578b8ebd21ea4e2ae8b27</td>\n",
       "      <td>True</td>\n",
       "    </tr>\n",
       "    <tr>\n",
       "      <th>...</th>\n",
       "      <td>...</td>\n",
       "      <td>...</td>\n",
       "      <td>...</td>\n",
       "    </tr>\n",
       "    <tr>\n",
       "      <th>88296</th>\n",
       "      <td>d064be88116eb8b958727aec4cf56a59</td>\n",
       "      <td>ff922bdd6bafcdf99cb90d7f39cea5b3</td>\n",
       "      <td>True</td>\n",
       "    </tr>\n",
       "    <tr>\n",
       "      <th>115438</th>\n",
       "      <td>1ae563fdfa500d150be6578066d83998</td>\n",
       "      <td>ff922bdd6bafcdf99cb90d7f39cea5b3</td>\n",
       "      <td>True</td>\n",
       "    </tr>\n",
       "    <tr>\n",
       "      <th>53024</th>\n",
       "      <td>bec0bf00ac5bee64ce8ef5283051a70c</td>\n",
       "      <td>ff922bdd6bafcdf99cb90d7f39cea5b3</td>\n",
       "      <td>True</td>\n",
       "    </tr>\n",
       "    <tr>\n",
       "      <th>80349</th>\n",
       "      <td>4b231c90751c27521f7ee27ed2dc3b8f</td>\n",
       "      <td>ffe254cc039740e17dd15a5305035928</td>\n",
       "      <td>True</td>\n",
       "    </tr>\n",
       "    <tr>\n",
       "      <th>64187</th>\n",
       "      <td>0088395699ea0fcd459bfbef084997db</td>\n",
       "      <td>ffe254cc039740e17dd15a5305035928</td>\n",
       "      <td>True</td>\n",
       "    </tr>\n",
       "  </tbody>\n",
       "</table>\n",
       "<p>8050 rows × 3 columns</p>\n",
       "</div>"
      ],
      "text/plain": [
       "                             customer_id                customer_unique_id  \\\n",
       "25686   1b4a75b3478138e99902678254b260f4  004288347e5e88a27ded2bb23747066c   \n",
       "37874   f6efe5d5c7b85e12355f9d5c3db46da2  004288347e5e88a27ded2bb23747066c   \n",
       "40459   876356df457f952458a764348e1858bc  00a39521eb40f7012db50455bf083460   \n",
       "32066   cbb68c721ba9ddb30d8a490cc1897fa1  00a39521eb40f7012db50455bf083460   \n",
       "93605   c0a44bf37d5601228051fc07852f951f  00cc12a6d8b578b8ebd21ea4e2ae8b27   \n",
       "...                                  ...                               ...   \n",
       "88296   d064be88116eb8b958727aec4cf56a59  ff922bdd6bafcdf99cb90d7f39cea5b3   \n",
       "115438  1ae563fdfa500d150be6578066d83998  ff922bdd6bafcdf99cb90d7f39cea5b3   \n",
       "53024   bec0bf00ac5bee64ce8ef5283051a70c  ff922bdd6bafcdf99cb90d7f39cea5b3   \n",
       "80349   4b231c90751c27521f7ee27ed2dc3b8f  ffe254cc039740e17dd15a5305035928   \n",
       "64187   0088395699ea0fcd459bfbef084997db  ffe254cc039740e17dd15a5305035928   \n",
       "\n",
       "        retained  \n",
       "25686       True  \n",
       "37874       True  \n",
       "40459       True  \n",
       "32066       True  \n",
       "93605       True  \n",
       "...          ...  \n",
       "88296       True  \n",
       "115438      True  \n",
       "53024       True  \n",
       "80349       True  \n",
       "64187       True  \n",
       "\n",
       "[8050 rows x 3 columns]"
      ]
     },
     "execution_count": 25,
     "metadata": {},
     "output_type": "execute_result"
    }
   ],
   "source": [
    "explore = finaldata[finaldata['retained'] == True]\n",
    "explore1 = explore[['customer_id','customer_unique_id','retained']]\n",
    "explore1.sort_values(by=['customer_unique_id'])"
   ]
  },
  {
   "cell_type": "markdown",
   "metadata": {},
   "source": [
    "# Exploratory Analysis\n",
    "### Perform statistical exploration and visualization on the retained dataframe"
   ]
  },
  {
   "cell_type": "code",
   "execution_count": 26,
   "metadata": {},
   "outputs": [
    {
     "data": {
      "text/plain": [
       "<seaborn.axisgrid.FacetGrid at 0x245b1fd6400>"
      ]
     },
     "execution_count": 26,
     "metadata": {},
     "output_type": "execute_result"
    },
    {
     "data": {
      "image/png": "[encoded data removed]",
      "text/plain": [
       "<Figure size 360x360 with 1 Axes>"
      ]
     },
     "metadata": {},
     "output_type": "display_data"
    }
   ],
   "source": [
    "sb.catplot(y = 'retained', data = finaldata, kind = \"count\")"
   ]
  },
  {
   "cell_type": "code",
   "execution_count": 27,
   "metadata": {},
   "outputs": [
    {
     "name": "stdout",
     "output_type": "stream",
     "text": [
      "Ratio of classes is Y : N =  106037 : 8050\n",
      "Large imbalance between the classes\n"
     ]
    }
   ],
   "source": [
    "countY, countX = finaldata.retained.value_counts()\n",
    "print(\"Ratio of classes is Y : N = \", countY, \":\", countX)\n",
    "print(\"Large imbalance between the classes\")"
   ]
  },
  {
   "cell_type": "code",
   "execution_count": 28,
   "metadata": {},
   "outputs": [
    {
     "data": {
      "image/png": "[encoded data removed]",
      "text/plain": [
       "<Figure size 1296x2160 with 7 Axes>"
      ]
     },
     "metadata": {},
     "output_type": "display_data"
    }
   ],
   "source": [
    "#f = plt.figure(figsize=(16, 8))\n",
    "l= ['payment_value','product_description_lenght','review_score','product_name_lenght','product_photos_qty','delivery_time','product_category_name']\n",
    "f, axes = plt.subplots(7, 1, figsize=(18, 30))\n",
    "count = 0\n",
    "for a in l:\n",
    "    sb.boxplot(y = a, x = 'retained', data = finaldata,ax=axes[count])\n",
    "    count+=1"
   ]
  },
  {
   "cell_type": "markdown",
   "metadata": {},
   "source": [
    "## Lets create a classification tree to find which variable is most important in impacting the Churn (retained = True/False) of a customer"
   ]
  },
  {
   "cell_type": "code",
   "execution_count": 29,
   "metadata": {},
   "outputs": [
    {
     "data": {
      "text/plain": [
       "[Text(669.6, 1141.5600000000002, 'product_description_lenght <= 576.5\\ngini = 0.131\\nsamples = 85565\\nvalue = [79558, 6007]\\nclass = False'),\n",
       " Text(334.8, 815.4000000000001, 'product_category_name <= 45.5\\ngini = 0.147\\nsamples = 40860\\nvalue = [37587, 3273]\\nclass = False'),\n",
       " Text(167.4, 489.24, 'product_category_name <= 43.5\\ngini = 0.169\\nsamples = 25220\\nvalue = [22868, 2352]\\nclass = False'),\n",
       " Text(83.7, 163.07999999999993, 'gini = 0.166\\nsamples = 24720\\nvalue = [22468, 2252]\\nclass = False'),\n",
       " Text(251.10000000000002, 163.07999999999993, 'gini = 0.32\\nsamples = 500\\nvalue = [400, 100]\\nclass = False'),\n",
       " Text(502.20000000000005, 489.24, 'payment_value <= 2.645\\ngini = 0.111\\nsamples = 15640\\nvalue = [14719, 921]\\nclass = False'),\n",
       " Text(418.5, 163.07999999999993, 'gini = 0.463\\nsamples = 77\\nvalue = [49, 28]\\nclass = False'),\n",
       " Text(585.9, 163.07999999999993, 'gini = 0.108\\nsamples = 15563\\nvalue = [14670, 893]\\nclass = False'),\n",
       " Text(1004.4000000000001, 815.4000000000001, 'product_name_lenght <= 63.5\\ngini = 0.115\\nsamples = 44705\\nvalue = [41971, 2734]\\nclass = False'),\n",
       " Text(837.0, 489.24, 'product_name_lenght <= 11.5\\ngini = 0.114\\nsamples = 44626\\nvalue = [41912, 2714]\\nclass = False'),\n",
       " Text(753.3000000000001, 163.07999999999993, 'gini = 0.48\\nsamples = 5\\nvalue = [2, 3]\\nclass = True'),\n",
       " Text(920.7, 163.07999999999993, 'gini = 0.114\\nsamples = 44621\\nvalue = [41910, 2711]\\nclass = False'),\n",
       " Text(1171.8, 489.24, 'payment_value <= 136.725\\ngini = 0.378\\nsamples = 79\\nvalue = [59, 20]\\nclass = False'),\n",
       " Text(1088.1000000000001, 163.07999999999993, 'gini = 0.473\\nsamples = 47\\nvalue = [29, 18]\\nclass = False'),\n",
       " Text(1255.5, 163.07999999999993, 'gini = 0.117\\nsamples = 32\\nvalue = [30, 2]\\nclass = False')]"
      ]
     },
     "execution_count": 29,
     "metadata": {},
     "output_type": "execute_result"
    },
    {
     "data": {
      "image/png": "[encoded data removed]",
      "text/plain": [
       "<Figure size 1728x1728 with 1 Axes>"
      ]
     },
     "metadata": {},
     "output_type": "display_data"
    }
   ],
   "source": [
    "# Extract Response and Predictors\n",
    "y = pd.DataFrame(finaldata['retained'])\n",
    "X = pd.DataFrame(finaldata[['product_category_name','payment_value','product_description_lenght','review_score','product_name_lenght','product_photos_qty','delivery_time']])\n",
    "\n",
    "# Split the Dataset into Train and Test\n",
    "X_train, X_test, y_train, y_test = train_test_split(X, y, test_size = 0.25)\n",
    "\n",
    "# Decision Tree using Train Data\n",
    "dectree = DecisionTreeClassifier(max_depth = 3)  # create the decision tree object\n",
    "dectree.fit(X_train, y_train)                    # train the decision tree model\n",
    "\n",
    "\n",
    "f = plt.figure(figsize=(24,24))\n",
    "plot_tree(dectree, filled=True, rounded=True, \n",
    "          feature_names=X_train.columns, \n",
    "          class_names=[\"False\",\"True\"])"
   ]
  },
  {
   "cell_type": "markdown",
   "metadata": {},
   "source": [
    "## Accuracy measures for train dataset"
   ]
  },
  {
   "cell_type": "code",
   "execution_count": 30,
   "metadata": {},
   "outputs": [
    {
     "name": "stdout",
     "output_type": "stream",
     "text": [
      "Train Data\n",
      "Accuracy  :\t 0.929807748495296\n",
      "\n",
      "TPR Train :\t 0.000499417346429166\n",
      "TNR Train :\t 0.9999748611076196\n",
      "\n",
      "FPR Train :\t 2.513889238040172e-05\n",
      "FNR Train :\t 0.9995005826535708\n"
     ]
    },
    {
     "data": {
      "text/plain": [
       "<matplotlib.axes._subplots.AxesSubplot at 0x245ab508280>"
      ]
     },
     "execution_count": 30,
     "metadata": {},
     "output_type": "execute_result"
    },
    {
     "data": {
      "image/png": "[encoded data removed]",
      "text/plain": [
       "<Figure size 432x288 with 2 Axes>"
      ]
     },
     "metadata": {},
     "output_type": "display_data"
    }
   ],
   "source": [
    "\n",
    "# Predict the Response corresponding to Predictors\n",
    "y_train_pred = dectree.predict(X_train)\n",
    "\n",
    "# Print the Classification Accuracy\n",
    "print(\"Train Data\")\n",
    "print(\"Accuracy  :\\t\", dectree.score(X_train, y_train))\n",
    "print()\n",
    "\n",
    "# Print the Accuracy Measures from the Confusion Matrix\n",
    "cmTrain = confusion_matrix(y_train, y_train_pred)\n",
    "tpTrain = cmTrain[1][1] # True Positives : Y (1) predicted Y (1)\n",
    "fpTrain = cmTrain[0][1] # False Positives : N (0) predicted Y (1)\n",
    "tnTrain = cmTrain[0][0] # True Negatives : N (0) predicted N (0)\n",
    "fnTrain = cmTrain[1][0] # False Negatives : Y (1) predicted N (0)\n",
    "\n",
    "print(\"TPR Train :\\t\", (tpTrain/(tpTrain + fnTrain)))\n",
    "print(\"TNR Train :\\t\", (tnTrain/(tnTrain + fpTrain)))\n",
    "print()\n",
    "\n",
    "print(\"FPR Train :\\t\", (fpTrain/(tnTrain + fpTrain)))\n",
    "print(\"FNR Train :\\t\", (fnTrain/(tpTrain + fnTrain)))\n",
    "\n",
    "# Plot the two-way Confusion Matrix\n",
    "sb.heatmap(confusion_matrix(y_train, y_train_pred), \n",
    "           annot = True, fmt=\".0f\", annot_kws={\"size\": 18})"
   ]
  },
  {
   "cell_type": "markdown",
   "metadata": {},
   "source": [
    "## Accuracy measures for test dataset"
   ]
  },
  {
   "cell_type": "code",
   "execution_count": 31,
   "metadata": {},
   "outputs": [
    {
     "name": "stdout",
     "output_type": "stream",
     "text": [
      "Test Data\n",
      "Accuracy  :\t 0.9282659000070121\n",
      "\n",
      "TPR Test :\t 0.0009789525208027412\n",
      "TNR Test :\t 0.999811171116734\n",
      "\n",
      "FPR Test :\t 0.00018882888326598438\n",
      "FNR Test :\t 0.9990210474791973\n"
     ]
    },
    {
     "data": {
      "text/plain": [
       "<matplotlib.axes._subplots.AxesSubplot at 0x245ad48c220>"
      ]
     },
     "execution_count": 31,
     "metadata": {},
     "output_type": "execute_result"
    },
    {
     "data": {
      "image/png": "[encoded data removed]",
      "text/plain": [
       "<Figure size 432x288 with 2 Axes>"
      ]
     },
     "metadata": {},
     "output_type": "display_data"
    }
   ],
   "source": [
    "# Predict the Response corresponding to Predictors\n",
    "y_test_pred = dectree.predict(X_test)\n",
    "\n",
    "# Print the Classification Accuracy\n",
    "print(\"Test Data\")\n",
    "print(\"Accuracy  :\\t\", dectree.score(X_test, y_test))\n",
    "print()\n",
    "\n",
    "# Print the Accuracy Measures from the Confusion Matrix\n",
    "cmTest = confusion_matrix(y_test, y_test_pred)\n",
    "tpTest = cmTest[1][1] # True Positives : Y (1) predicted Y (1)\n",
    "fpTest = cmTest[0][1] # False Positives : N (0) predicted Y (1)\n",
    "tnTest = cmTest[0][0] # True Negatives : N (0) predicted N (0)\n",
    "fnTest = cmTest[1][0] # False Negatives : Y (1) predicted N (0)\n",
    "\n",
    "print(\"TPR Test :\\t\", (tpTest/(tpTest + fnTest)))\n",
    "print(\"TNR Test :\\t\", (tnTest/(tnTest + fpTest)))\n",
    "print()\n",
    "\n",
    "print(\"FPR Test :\\t\", (fpTest/(fpTest + tnTest)))\n",
    "print(\"FNR Test :\\t\", (fnTest/(fnTest + tpTest)))\n",
    "\n",
    "# Plot the two-way Confusion Matrix\n",
    "sb.heatmap(confusion_matrix(y_test, y_test_pred), \n",
    "           annot = True, fmt=\".0f\", annot_kws={\"size\": 18})"
   ]
  },
  {
   "cell_type": "markdown",
   "metadata": {},
   "source": [
    "# Customer Lifetime Value (CLV)\n",
    "## Problem statement #1: Predicting the CLV of recurring (retained=True) customers \n",
    "### Steps:\n",
    "### 1. Filter out recurring customers from data\n",
    "### 2. Calculate CLV = Avg Indv Sale * (Retention Period / Frequency of Purchase) * Profit Margin\n",
    "### 3. Create and fit multi-variate regression model\n",
    "## Problem statement #2: Finding which variable is most important for CLV\n",
    "### Steps:\n",
    "### 1. Clustering into 3 segments; high-med-low CLV\n",
    "### 2. Create and fit multi-variate decision tree"
   ]
  },
  {
   "cell_type": "code",
   "execution_count": 76,
   "metadata": {},
   "outputs": [
    {
     "name": "stdout",
     "output_type": "stream",
     "text": [
      "<class 'pandas.core.frame.DataFrame'>\n",
      "Int64Index: 114087 entries, 0 to 115726\n",
      "Data columns (total 35 columns):\n",
      " #   Column                         Non-Null Count   Dtype  \n",
      "---  ------                         --------------   -----  \n",
      " 0   order_id                       114087 non-null  object \n",
      " 1   order_item_id                  114087 non-null  int64  \n",
      " 2   product_id                     114087 non-null  object \n",
      " 3   seller_id                      114087 non-null  object \n",
      " 4   shipping_limit_date            114087 non-null  object \n",
      " 5   price                          114087 non-null  float64\n",
      " 6   freight_value                  114087 non-null  float64\n",
      " 7   payment_sequential             114087 non-null  int64  \n",
      " 8   payment_type                   114087 non-null  object \n",
      " 9   payment_installments           114087 non-null  int64  \n",
      " 10  payment_value                  114087 non-null  float64\n",
      " 11  review_id                      114087 non-null  object \n",
      " 12  review_score                   114087 non-null  int64  \n",
      " 13  review_comment_title           13667 non-null   object \n",
      " 14  review_comment_message         48234 non-null   object \n",
      " 15  review_creation_date           114087 non-null  object \n",
      " 16  review_answer_timestamp        114087 non-null  object \n",
      " 17  customer_id                    114087 non-null  object \n",
      " 18  order_status                   114087 non-null  object \n",
      " 19  order_purchase_timestamp       114087 non-null  object \n",
      " 20  order_approved_at              114073 non-null  object \n",
      " 21  order_delivered_carrier_date   114086 non-null  object \n",
      " 22  order_delivered_customer_date  114087 non-null  object \n",
      " 23  order_estimated_delivery_date  114087 non-null  object \n",
      " 24  delivery_time                  114087 non-null  float64\n",
      " 25  product_category_name          114087 non-null  int8   \n",
      " 26  product_name_lenght            114087 non-null  float64\n",
      " 27  product_description_lenght     114087 non-null  float64\n",
      " 28  product_photos_qty             114087 non-null  float64\n",
      " 29  product_weight_g               114087 non-null  float64\n",
      " 30  product_length_cm              114087 non-null  float64\n",
      " 31  product_height_cm              114087 non-null  float64\n",
      " 32  product_width_cm               114087 non-null  float64\n",
      " 33  customer_unique_id             114087 non-null  object \n",
      " 34  retained                       114087 non-null  bool   \n",
      "dtypes: bool(1), float64(11), int64(4), int8(1), object(18)\n",
      "memory usage: 34.8+ MB\n"
     ]
    }
   ],
   "source": [
    "finaldata.info()"
   ]
  },
  {
   "cell_type": "code",
   "execution_count": 83,
   "metadata": {},
   "outputs": [
    {
     "data": {
      "text/html": [
       "<div>\n",
       "<style scoped>\n",
       "    .dataframe tbody tr th:only-of-type {\n",
       "        vertical-align: middle;\n",
       "    }\n",
       "\n",
       "    .dataframe tbody tr th {\n",
       "        vertical-align: top;\n",
       "    }\n",
       "\n",
       "    .dataframe thead th {\n",
       "        text-align: right;\n",
       "    }\n",
       "</style>\n",
       "<table border=\"1\" class=\"dataframe\">\n",
       "  <thead>\n",
       "    <tr style=\"text-align: right;\">\n",
       "      <th></th>\n",
       "      <th>No.Orders</th>\n",
       "      <th>frequency</th>\n",
       "      <th>avg sale</th>\n",
       "      <th>CLV</th>\n",
       "      <th>delivery_time</th>\n",
       "      <th>review_score</th>\n",
       "    </tr>\n",
       "  </thead>\n",
       "  <tbody>\n",
       "    <tr>\n",
       "      <th>9a736b248f67d166d2fbb006bcb877c3</th>\n",
       "      <td>75</td>\n",
       "      <td>3.125000</td>\n",
       "      <td>7.415067</td>\n",
       "      <td>41.70975</td>\n",
       "      <td>5.840000</td>\n",
       "      <td>5.000000</td>\n",
       "    </tr>\n",
       "    <tr>\n",
       "      <th>f9ae226291893fda10af7965268fb7f6</th>\n",
       "      <td>35</td>\n",
       "      <td>1.458333</td>\n",
       "      <td>27.042000</td>\n",
       "      <td>70.98525</td>\n",
       "      <td>14.200000</td>\n",
       "      <td>3.685714</td>\n",
       "    </tr>\n",
       "    <tr>\n",
       "      <th>d97b3cfb22b0d6b25ac9ed4e9c2d481b</th>\n",
       "      <td>24</td>\n",
       "      <td>1.000000</td>\n",
       "      <td>798.635833</td>\n",
       "      <td>1437.54450</td>\n",
       "      <td>5.666667</td>\n",
       "      <td>1.000000</td>\n",
       "    </tr>\n",
       "    <tr>\n",
       "      <th>1d2435aa3b858d45c707c9fc25e18779</th>\n",
       "      <td>24</td>\n",
       "      <td>1.000000</td>\n",
       "      <td>9.737500</td>\n",
       "      <td>17.52750</td>\n",
       "      <td>19.000000</td>\n",
       "      <td>4.666667</td>\n",
       "    </tr>\n",
       "    <tr>\n",
       "      <th>c8460e4251689ba205045f3ea17884a1</th>\n",
       "      <td>24</td>\n",
       "      <td>1.000000</td>\n",
       "      <td>1163.977500</td>\n",
       "      <td>2095.15950</td>\n",
       "      <td>12.000000</td>\n",
       "      <td>4.000000</td>\n",
       "    </tr>\n",
       "    <tr>\n",
       "      <th>...</th>\n",
       "      <td>...</td>\n",
       "      <td>...</td>\n",
       "      <td>...</td>\n",
       "      <td>...</td>\n",
       "      <td>...</td>\n",
       "      <td>...</td>\n",
       "    </tr>\n",
       "    <tr>\n",
       "      <th>10b58cbd6607267fd41812614367439e</th>\n",
       "      <td>2</td>\n",
       "      <td>0.083333</td>\n",
       "      <td>161.980000</td>\n",
       "      <td>24.29700</td>\n",
       "      <td>9.500000</td>\n",
       "      <td>5.000000</td>\n",
       "    </tr>\n",
       "    <tr>\n",
       "      <th>f95de29d9e810e69f55626ff1bbd4d60</th>\n",
       "      <td>2</td>\n",
       "      <td>0.083333</td>\n",
       "      <td>63.130000</td>\n",
       "      <td>9.46950</td>\n",
       "      <td>12.500000</td>\n",
       "      <td>5.000000</td>\n",
       "    </tr>\n",
       "    <tr>\n",
       "      <th>0ad1d79346c3b98b517348ecbbadfbc6</th>\n",
       "      <td>2</td>\n",
       "      <td>0.083333</td>\n",
       "      <td>78.765000</td>\n",
       "      <td>11.81475</td>\n",
       "      <td>9.000000</td>\n",
       "      <td>5.000000</td>\n",
       "    </tr>\n",
       "    <tr>\n",
       "      <th>13473af264dea0facd893d6516900b22</th>\n",
       "      <td>2</td>\n",
       "      <td>0.083333</td>\n",
       "      <td>67.585000</td>\n",
       "      <td>10.13775</td>\n",
       "      <td>12.000000</td>\n",
       "      <td>5.000000</td>\n",
       "    </tr>\n",
       "    <tr>\n",
       "      <th>70aa9ef908248a2ec9e03b77ce1ff357</th>\n",
       "      <td>2</td>\n",
       "      <td>0.083333</td>\n",
       "      <td>228.775000</td>\n",
       "      <td>34.31625</td>\n",
       "      <td>3.500000</td>\n",
       "      <td>4.500000</td>\n",
       "    </tr>\n",
       "  </tbody>\n",
       "</table>\n",
       "<p>2742 rows × 6 columns</p>\n",
       "</div>"
      ],
      "text/plain": [
       "                                  No.Orders  frequency     avg sale  \\\n",
       "9a736b248f67d166d2fbb006bcb877c3         75   3.125000     7.415067   \n",
       "f9ae226291893fda10af7965268fb7f6         35   1.458333    27.042000   \n",
       "d97b3cfb22b0d6b25ac9ed4e9c2d481b         24   1.000000   798.635833   \n",
       "1d2435aa3b858d45c707c9fc25e18779         24   1.000000     9.737500   \n",
       "c8460e4251689ba205045f3ea17884a1         24   1.000000  1163.977500   \n",
       "...                                     ...        ...          ...   \n",
       "10b58cbd6607267fd41812614367439e          2   0.083333   161.980000   \n",
       "f95de29d9e810e69f55626ff1bbd4d60          2   0.083333    63.130000   \n",
       "0ad1d79346c3b98b517348ecbbadfbc6          2   0.083333    78.765000   \n",
       "13473af264dea0facd893d6516900b22          2   0.083333    67.585000   \n",
       "70aa9ef908248a2ec9e03b77ce1ff357          2   0.083333   228.775000   \n",
       "\n",
       "                                         CLV  delivery_time  review_score  \n",
       "9a736b248f67d166d2fbb006bcb877c3    41.70975       5.840000      5.000000  \n",
       "f9ae226291893fda10af7965268fb7f6    70.98525      14.200000      3.685714  \n",
       "d97b3cfb22b0d6b25ac9ed4e9c2d481b  1437.54450       5.666667      1.000000  \n",
       "1d2435aa3b858d45c707c9fc25e18779    17.52750      19.000000      4.666667  \n",
       "c8460e4251689ba205045f3ea17884a1  2095.15950      12.000000      4.000000  \n",
       "...                                      ...            ...           ...  \n",
       "10b58cbd6607267fd41812614367439e    24.29700       9.500000      5.000000  \n",
       "f95de29d9e810e69f55626ff1bbd4d60     9.46950      12.500000      5.000000  \n",
       "0ad1d79346c3b98b517348ecbbadfbc6    11.81475       9.000000      5.000000  \n",
       "13473af264dea0facd893d6516900b22    10.13775      12.000000      5.000000  \n",
       "70aa9ef908248a2ec9e03b77ce1ff357    34.31625       3.500000      4.500000  \n",
       "\n",
       "[2742 rows x 6 columns]"
      ]
     },
     "execution_count": 83,
     "metadata": {},
     "output_type": "execute_result"
    }
   ],
   "source": [
    "# Filter retained customers\n",
    "clvfilter = finaldata[finaldata['retained'] == True]\n",
    "    \n",
    "# Frequency of purchase; per month basis\n",
    "clvdata = clvfilter['customer_unique_id'].value_counts().to_frame(name=\"No.Orders\")\n",
    "clvdata['frequency'] = clvdata['No.Orders'].div(24)\n",
    "\n",
    "# Avg indiv sale\n",
    "total = clvfilter.groupby('customer_unique_id')['payment_value'].sum()\n",
    "clvdata['avg sale'] = total/clvdata['No.Orders']\n",
    "\n",
    "# CLV: Profit margin of 10% and retention period of 18 months\n",
    "clvdata['CLV'] = clvdata['frequency']*clvdata['avg sale']*0.1*18\n",
    "\n",
    "clvdata['delivery_time']=clvfilter.groupby('customer_unique_id')['delivery_time'].sum() / clvdata['No.Orders']\n",
    "clvdata['review_score']=clvfilter.groupby('customer_unique_id')['review_score'].sum() / clvdata['No.Orders']\n",
    "clvdata"
   ]
  },
  {
   "cell_type": "code",
   "execution_count": 69,
   "metadata": {},
   "outputs": [
    {
     "ename": "AttributeError",
     "evalue": "'DataFrame' object has no attribute 'unique'",
     "output_type": "error",
     "traceback": [
      "\u001b[1;31m---------------------------------------------------------------------------\u001b[0m",
      "\u001b[1;31mAttributeError\u001b[0m                            Traceback (most recent call last)",
      "\u001b[1;32m<ipython-input-69-c4af023a293f>\u001b[0m in \u001b[0;36m<module>\u001b[1;34m\u001b[0m\n\u001b[1;32m----> 1\u001b[1;33m \u001b[0mclvfilter\u001b[0m\u001b[1;33m.\u001b[0m\u001b[0munique\u001b[0m\u001b[1;33m(\u001b[0m\u001b[1;33m)\u001b[0m\u001b[1;33m\u001b[0m\u001b[1;33m\u001b[0m\u001b[0m\n\u001b[0m",
      "\u001b[1;32m~\\anaconda3\\lib\\site-packages\\pandas\\core\\generic.py\u001b[0m in \u001b[0;36m__getattr__\u001b[1;34m(self, name)\u001b[0m\n\u001b[0;32m   5128\u001b[0m             \u001b[1;32mif\u001b[0m \u001b[0mself\u001b[0m\u001b[1;33m.\u001b[0m\u001b[0m_info_axis\u001b[0m\u001b[1;33m.\u001b[0m\u001b[0m_can_hold_identifiers_and_holds_name\u001b[0m\u001b[1;33m(\u001b[0m\u001b[0mname\u001b[0m\u001b[1;33m)\u001b[0m\u001b[1;33m:\u001b[0m\u001b[1;33m\u001b[0m\u001b[1;33m\u001b[0m\u001b[0m\n\u001b[0;32m   5129\u001b[0m                 \u001b[1;32mreturn\u001b[0m \u001b[0mself\u001b[0m\u001b[1;33m[\u001b[0m\u001b[0mname\u001b[0m\u001b[1;33m]\u001b[0m\u001b[1;33m\u001b[0m\u001b[1;33m\u001b[0m\u001b[0m\n\u001b[1;32m-> 5130\u001b[1;33m             \u001b[1;32mreturn\u001b[0m \u001b[0mobject\u001b[0m\u001b[1;33m.\u001b[0m\u001b[0m__getattribute__\u001b[0m\u001b[1;33m(\u001b[0m\u001b[0mself\u001b[0m\u001b[1;33m,\u001b[0m \u001b[0mname\u001b[0m\u001b[1;33m)\u001b[0m\u001b[1;33m\u001b[0m\u001b[1;33m\u001b[0m\u001b[0m\n\u001b[0m\u001b[0;32m   5131\u001b[0m \u001b[1;33m\u001b[0m\u001b[0m\n\u001b[0;32m   5132\u001b[0m     \u001b[1;32mdef\u001b[0m \u001b[0m__setattr__\u001b[0m\u001b[1;33m(\u001b[0m\u001b[0mself\u001b[0m\u001b[1;33m,\u001b[0m \u001b[0mname\u001b[0m\u001b[1;33m:\u001b[0m \u001b[0mstr\u001b[0m\u001b[1;33m,\u001b[0m \u001b[0mvalue\u001b[0m\u001b[1;33m)\u001b[0m \u001b[1;33m->\u001b[0m \u001b[1;32mNone\u001b[0m\u001b[1;33m:\u001b[0m\u001b[1;33m\u001b[0m\u001b[1;33m\u001b[0m\u001b[0m\n",
      "\u001b[1;31mAttributeError\u001b[0m: 'DataFrame' object has no attribute 'unique'"
     ]
    }
   ],
   "source": []
  },
  {
   "cell_type": "code",
   "execution_count": 59,
   "metadata": {},
   "outputs": [
    {
     "data": {
      "text/plain": [
       "19167.26000000001"
      ]
     },
     "execution_count": 59,
     "metadata": {},
     "output_type": "execute_result"
    }
   ],
   "source": []
  },
  {
   "cell_type": "code",
   "execution_count": null,
   "metadata": {},
   "outputs": [],
   "source": []
  }
 ],
 "metadata": {
  "kernelspec": {
   "display_name": "Python 3",
   "language": "python",
   "name": "python3"
  },
  "language_info": {
   "codemirror_mode": {
    "name": "ipython",
    "version": 3
   },
   "file_extension": ".py",
   "mimetype": "text/x-python",
   "name": "python",
   "nbconvert_exporter": "python",
   "pygments_lexer": "ipython3",
   "version": "3.8.3"
  }
 },
 "nbformat": 4,
 "nbformat_minor": 4
}
